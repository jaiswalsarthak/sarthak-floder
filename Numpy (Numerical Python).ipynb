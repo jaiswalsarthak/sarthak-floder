{
 "cells": [
  {
   "cell_type": "code",
   "execution_count": 6,
   "id": "c3d84dbd",
   "metadata": {},
   "outputs": [],
   "source": [
    "import numpy as np"
   ]
  },
  {
   "cell_type": "code",
   "execution_count": 7,
   "id": "259d2439",
   "metadata": {},
   "outputs": [
    {
     "name": "stdout",
     "output_type": "stream",
     "text": [
      "['ram', 123, 50.5, (7+2j)]\n"
     ]
    },
    {
     "data": {
      "text/plain": [
       "list"
      ]
     },
     "execution_count": 7,
     "metadata": {},
     "output_type": "execute_result"
    }
   ],
   "source": [
    "my_list=[\"ram\",123,50.5,7+2j]\n",
    "print(my_list)\n",
    "type(my_list)"
   ]
  },
  {
   "cell_type": "code",
   "execution_count": 8,
   "id": "ec94865f",
   "metadata": {},
   "outputs": [
    {
     "name": "stdout",
     "output_type": "stream",
     "text": [
      "['sarthak', 1, 2, True]\n"
     ]
    },
    {
     "data": {
      "text/plain": [
       "list"
      ]
     },
     "execution_count": 8,
     "metadata": {},
     "output_type": "execute_result"
    }
   ],
   "source": [
    "l1=[\"sarthak\",1,2,True]\n",
    "print(l1)\n",
    "type(l1)"
   ]
  },
  {
   "cell_type": "markdown",
   "id": "2c584bd2",
   "metadata": {},
   "source": [
    "### Create array"
   ]
  },
  {
   "cell_type": "code",
   "execution_count": 9,
   "id": "71e0a032",
   "metadata": {},
   "outputs": [
    {
     "name": "stdout",
     "output_type": "stream",
     "text": [
      "[1 2 3 6 9]\n"
     ]
    },
    {
     "data": {
      "text/plain": [
       "numpy.ndarray"
      ]
     },
     "execution_count": 9,
     "metadata": {},
     "output_type": "execute_result"
    }
   ],
   "source": [
    "a=np.array([1,2,3,6,9])\n",
    "print(a)\n",
    "type(a)#int"
   ]
  },
  {
   "cell_type": "code",
   "execution_count": 10,
   "id": "5f9f07f4",
   "metadata": {},
   "outputs": [
    {
     "name": "stdout",
     "output_type": "stream",
     "text": [
      "['ram' '123' '50.5' '(7+2j)']\n"
     ]
    },
    {
     "data": {
      "text/plain": [
       "numpy.ndarray"
      ]
     },
     "execution_count": 10,
     "metadata": {},
     "output_type": "execute_result"
    }
   ],
   "source": [
    "my_array=np.array([\"ram\",123,50.5,7+2j])\n",
    "print(my_array)\n",
    "type(my_array)#string>complex>float>int"
   ]
  },
  {
   "cell_type": "code",
   "execution_count": 11,
   "id": "9fb80d22",
   "metadata": {},
   "outputs": [
    {
     "name": "stdout",
     "output_type": "stream",
     "text": [
      "[123. +0.j  50.5+0.j   7. +2.j]\n"
     ]
    },
    {
     "data": {
      "text/plain": [
       "numpy.ndarray"
      ]
     },
     "execution_count": 11,
     "metadata": {},
     "output_type": "execute_result"
    }
   ],
   "source": [
    "my_array=np.array([123,50.5,7+2j])\n",
    "print(my_array)\n",
    "type(my_array)#complex>float>int"
   ]
  },
  {
   "cell_type": "code",
   "execution_count": 12,
   "id": "aa9afec1",
   "metadata": {},
   "outputs": [
    {
     "name": "stdout",
     "output_type": "stream",
     "text": [
      "['123' 'sarthak' 'chetana' '45.7']\n"
     ]
    },
    {
     "data": {
      "text/plain": [
       "numpy.ndarray"
      ]
     },
     "execution_count": 12,
     "metadata": {},
     "output_type": "execute_result"
    }
   ],
   "source": [
    "x=np.array([123,\"sarthak\",\"chetana\",45.7])\n",
    "print(x)\n",
    "type(x)#String>float>int"
   ]
  },
  {
   "cell_type": "code",
   "execution_count": 13,
   "id": "07bf204d",
   "metadata": {},
   "outputs": [
    {
     "name": "stdout",
     "output_type": "stream",
     "text": [
      "[123. +0.j   2. +4.j  45.7+0.j   2. +0.j]\n"
     ]
    },
    {
     "data": {
      "text/plain": [
       "numpy.ndarray"
      ]
     },
     "execution_count": 13,
     "metadata": {},
     "output_type": "execute_result"
    }
   ],
   "source": [
    "x=np.array([123,2+4j,45.7,2])\n",
    "print(x)\n",
    "type(x)#Complex>float>int"
   ]
  },
  {
   "cell_type": "markdown",
   "id": "26fa7065",
   "metadata": {},
   "source": [
    "### numpy priority String>Complex>Float>Int"
   ]
  },
  {
   "cell_type": "code",
   "execution_count": 14,
   "id": "f0e30e1d",
   "metadata": {},
   "outputs": [
    {
     "name": "stdout",
     "output_type": "stream",
     "text": [
      "[123.   50.5]\n"
     ]
    },
    {
     "data": {
      "text/plain": [
       "numpy.ndarray"
      ]
     },
     "execution_count": 14,
     "metadata": {},
     "output_type": "execute_result"
    }
   ],
   "source": [
    "my_array=np.array([123,50.5])\n",
    "print(my_array)\n",
    "type(my_array)#Float>Int"
   ]
  },
  {
   "cell_type": "markdown",
   "id": "d7647ebc",
   "metadata": {},
   "source": [
    "### Empty Numpy array"
   ]
  },
  {
   "cell_type": "code",
   "execution_count": 15,
   "id": "0a6b8759",
   "metadata": {},
   "outputs": [
    {
     "data": {
      "text/plain": [
       "array([], dtype=float64)"
      ]
     },
     "execution_count": 15,
     "metadata": {},
     "output_type": "execute_result"
    }
   ],
   "source": [
    "a=np.array([])\n",
    "a"
   ]
  },
  {
   "cell_type": "markdown",
   "id": "9d594766",
   "metadata": {},
   "source": [
    "### Attributes of Numpy"
   ]
  },
  {
   "cell_type": "markdown",
   "id": "dddfbaae",
   "metadata": {},
   "source": [
    "### 1.ndim"
   ]
  },
  {
   "cell_type": "code",
   "execution_count": 16,
   "id": "fd1dcd46",
   "metadata": {},
   "outputs": [
    {
     "name": "stdout",
     "output_type": "stream",
     "text": [
      "[['123' 'sarthak' 'chetana' '45.7']\n",
      " ['1' '2' '3' '4']]\n"
     ]
    }
   ],
   "source": [
    "x=np.array([[123,\"sarthak\",\"chetana\",45.7],[1,2,3,4]])\n",
    "print(x)"
   ]
  },
  {
   "cell_type": "code",
   "execution_count": 17,
   "id": "3532f191",
   "metadata": {},
   "outputs": [
    {
     "data": {
      "text/plain": [
       "2"
      ]
     },
     "execution_count": 17,
     "metadata": {},
     "output_type": "execute_result"
    }
   ],
   "source": [
    "x.ndim"
   ]
  },
  {
   "cell_type": "code",
   "execution_count": 18,
   "id": "fdb6c3ff",
   "metadata": {},
   "outputs": [
    {
     "name": "stdout",
     "output_type": "stream",
     "text": [
      "[[123  45  45  60]\n",
      " [  1   2   3   4]\n",
      " [ 10  20  30  40]]\n"
     ]
    }
   ],
   "source": [
    "x=np.array([[123,45,45,60],[1,2,3,4],[10,20,30,40]])\n",
    "print(x)"
   ]
  },
  {
   "cell_type": "code",
   "execution_count": 19,
   "id": "7a3e2a87",
   "metadata": {},
   "outputs": [
    {
     "data": {
      "text/plain": [
       "2"
      ]
     },
     "execution_count": 19,
     "metadata": {},
     "output_type": "execute_result"
    }
   ],
   "source": [
    "x.ndim"
   ]
  },
  {
   "cell_type": "markdown",
   "id": "b5466e37",
   "metadata": {},
   "source": [
    "### 2.shape"
   ]
  },
  {
   "cell_type": "code",
   "execution_count": 20,
   "id": "9eea6702",
   "metadata": {},
   "outputs": [
    {
     "data": {
      "text/plain": [
       "(3, 4)"
      ]
     },
     "execution_count": 20,
     "metadata": {},
     "output_type": "execute_result"
    }
   ],
   "source": [
    "x.shape"
   ]
  },
  {
   "cell_type": "markdown",
   "id": "1d2d14c1",
   "metadata": {},
   "source": [
    "### 3.size"
   ]
  },
  {
   "cell_type": "code",
   "execution_count": 21,
   "id": "dda78cd8",
   "metadata": {},
   "outputs": [
    {
     "data": {
      "text/plain": [
       "12"
      ]
     },
     "execution_count": 21,
     "metadata": {},
     "output_type": "execute_result"
    }
   ],
   "source": [
    "x.size"
   ]
  },
  {
   "cell_type": "markdown",
   "id": "0c7d417f",
   "metadata": {},
   "source": [
    "### 4.dtype"
   ]
  },
  {
   "cell_type": "code",
   "execution_count": 22,
   "id": "9f99031a",
   "metadata": {},
   "outputs": [
    {
     "data": {
      "text/plain": [
       "dtype('int32')"
      ]
     },
     "execution_count": 22,
     "metadata": {},
     "output_type": "execute_result"
    }
   ],
   "source": [
    "x.dtype"
   ]
  },
  {
   "cell_type": "markdown",
   "id": "3d92d68c",
   "metadata": {},
   "source": [
    "### 5.itemsize"
   ]
  },
  {
   "cell_type": "code",
   "execution_count": null,
   "id": "fe8253e2",
   "metadata": {},
   "outputs": [],
   "source": []
  },
  {
   "cell_type": "code",
   "execution_count": 23,
   "id": "58a5eaee",
   "metadata": {},
   "outputs": [
    {
     "data": {
      "text/plain": [
       "4"
      ]
     },
     "execution_count": 23,
     "metadata": {},
     "output_type": "execute_result"
    }
   ],
   "source": [
    "x.itemsize"
   ]
  },
  {
   "cell_type": "code",
   "execution_count": 24,
   "id": "be5e2628",
   "metadata": {},
   "outputs": [
    {
     "data": {
      "text/plain": [
       "<memory at 0x0000028F020DB6B0>"
      ]
     },
     "execution_count": 24,
     "metadata": {},
     "output_type": "execute_result"
    }
   ],
   "source": [
    "x.data"
   ]
  },
  {
   "cell_type": "markdown",
   "id": "7d735fff",
   "metadata": {},
   "source": [
    "### Array Creation Function"
   ]
  },
  {
   "cell_type": "markdown",
   "id": "3faba055",
   "metadata": {},
   "source": [
    "### 1.np.array()"
   ]
  },
  {
   "cell_type": "code",
   "execution_count": 25,
   "id": "edde00e4",
   "metadata": {},
   "outputs": [
    {
     "name": "stdout",
     "output_type": "stream",
     "text": [
      "[['a' 'b' 'c' 'd']\n",
      " ['w' 'x' 'y' 'z']]\n"
     ]
    }
   ],
   "source": [
    "a_list=np.array([[\"a\",\"b\",\"c\",\"d\"],[\"w\",\"x\",\"y\",\"z\"]])\n",
    "print(a_list)"
   ]
  },
  {
   "cell_type": "code",
   "execution_count": 26,
   "id": "49c42007",
   "metadata": {},
   "outputs": [
    {
     "name": "stdout",
     "output_type": "stream",
     "text": [
      "[['a' 'b' 'c' 'd']\n",
      " ['w' 'x' 'y' 'z']]\n"
     ]
    }
   ],
   "source": [
    "b_tuple=np.array([(\"a\",\"b\",\"c\",\"d\"),(\"w\",\"x\",\"y\",\"z\")])\n",
    "print(b_tuple)"
   ]
  },
  {
   "cell_type": "code",
   "execution_count": 28,
   "id": "4bfb567c",
   "metadata": {},
   "outputs": [
    {
     "data": {
      "text/plain": [
       "(2, 4)"
      ]
     },
     "execution_count": 28,
     "metadata": {},
     "output_type": "execute_result"
    }
   ],
   "source": [
    "b_tuple.shape"
   ]
  },
  {
   "cell_type": "markdown",
   "id": "95d159cf",
   "metadata": {},
   "source": [
    "### 2.np.zeros()"
   ]
  },
  {
   "cell_type": "code",
   "execution_count": 29,
   "id": "510e64e5",
   "metadata": {},
   "outputs": [
    {
     "data": {
      "text/plain": [
       "array([[0., 0., 0., 0.],\n",
       "       [0., 0., 0., 0.],\n",
       "       [0., 0., 0., 0.],\n",
       "       [0., 0., 0., 0.]])"
      ]
     },
     "execution_count": 29,
     "metadata": {},
     "output_type": "execute_result"
    }
   ],
   "source": [
    "np.zeros((4,4))"
   ]
  },
  {
   "cell_type": "markdown",
   "id": "b44a58e6",
   "metadata": {},
   "source": [
    "### 3.zeros_like()"
   ]
  },
  {
   "cell_type": "code",
   "execution_count": 93,
   "id": "70cfc5fb",
   "metadata": {},
   "outputs": [
    {
     "name": "stdout",
     "output_type": "stream",
     "text": [
      "[[1 2 3 6]\n",
      " [4 8 7 9]\n",
      " [4 8 9 7]]\n"
     ]
    }
   ],
   "source": [
    "a_list1=np.array([[1,2,3,6],[4,8,7,9],[4,8,9,7]])\n",
    "print(a_list1)"
   ]
  },
  {
   "cell_type": "code",
   "execution_count": 94,
   "id": "b16453f5",
   "metadata": {},
   "outputs": [
    {
     "data": {
      "text/plain": [
       "2"
      ]
     },
     "execution_count": 94,
     "metadata": {},
     "output_type": "execute_result"
    }
   ],
   "source": [
    "a_list1.ndim"
   ]
  },
  {
   "cell_type": "code",
   "execution_count": 95,
   "id": "83bcdfad",
   "metadata": {},
   "outputs": [
    {
     "data": {
      "text/plain": [
       "array([[0, 0, 0, 0],\n",
       "       [0, 0, 0, 0],\n",
       "       [0, 0, 0, 0]])"
      ]
     },
     "execution_count": 95,
     "metadata": {},
     "output_type": "execute_result"
    }
   ],
   "source": [
    "np.zeros_like(a_list1)"
   ]
  },
  {
   "cell_type": "markdown",
   "id": "365c8128",
   "metadata": {},
   "source": [
    "### 4.ones()"
   ]
  },
  {
   "cell_type": "code",
   "execution_count": 96,
   "id": "dbdeecf6",
   "metadata": {},
   "outputs": [
    {
     "data": {
      "text/plain": [
       "array([[1., 1., 1., 1., 1., 1.],\n",
       "       [1., 1., 1., 1., 1., 1.],\n",
       "       [1., 1., 1., 1., 1., 1.],\n",
       "       [1., 1., 1., 1., 1., 1.],\n",
       "       [1., 1., 1., 1., 1., 1.]])"
      ]
     },
     "execution_count": 96,
     "metadata": {},
     "output_type": "execute_result"
    }
   ],
   "source": [
    "np.ones((5,6))"
   ]
  },
  {
   "cell_type": "markdown",
   "id": "348a6bc6",
   "metadata": {},
   "source": [
    "### 5.ones_like"
   ]
  },
  {
   "cell_type": "code",
   "execution_count": 97,
   "id": "649ec470",
   "metadata": {},
   "outputs": [
    {
     "name": "stdout",
     "output_type": "stream",
     "text": [
      "[[1 2 3 4]\n",
      " [5 6 7 8]]\n"
     ]
    }
   ],
   "source": [
    "y=np.array([[1,2,3,4],[5,6,7,8]])\n",
    "print(y)"
   ]
  },
  {
   "cell_type": "code",
   "execution_count": 98,
   "id": "01339c40",
   "metadata": {},
   "outputs": [
    {
     "data": {
      "text/plain": [
       "array([[1, 1, 1, 1],\n",
       "       [1, 1, 1, 1]])"
      ]
     },
     "execution_count": 98,
     "metadata": {},
     "output_type": "execute_result"
    }
   ],
   "source": [
    "np.ones_like(y)"
   ]
  },
  {
   "cell_type": "markdown",
   "id": "656feeae",
   "metadata": {},
   "source": [
    "### 6.np.empty()"
   ]
  },
  {
   "cell_type": "code",
   "execution_count": 99,
   "id": "0bcc7b7e",
   "metadata": {},
   "outputs": [
    {
     "data": {
      "text/plain": [
       "array([], dtype=float64)"
      ]
     },
     "execution_count": 99,
     "metadata": {},
     "output_type": "execute_result"
    }
   ],
   "source": [
    "np.empty(0)"
   ]
  },
  {
   "cell_type": "markdown",
   "id": "85f995d1",
   "metadata": {},
   "source": [
    "### 7.np.arrange()"
   ]
  },
  {
   "cell_type": "code",
   "execution_count": 100,
   "id": "7df3b440",
   "metadata": {},
   "outputs": [
    {
     "name": "stdout",
     "output_type": "stream",
     "text": [
      "1\n",
      "4\n",
      "7\n",
      "10\n",
      "13\n",
      "16\n"
     ]
    }
   ],
   "source": [
    "for i in range(1,19,3):   #range\n",
    "    print(i)"
   ]
  },
  {
   "cell_type": "code",
   "execution_count": 101,
   "id": "9a1c3a24",
   "metadata": {},
   "outputs": [
    {
     "data": {
      "text/plain": [
       "array([ 1,  4,  7, 10, 13, 16, 19])"
      ]
     },
     "execution_count": 101,
     "metadata": {},
     "output_type": "execute_result"
    }
   ],
   "source": [
    "np.arange(1,20,3)"
   ]
  },
  {
   "cell_type": "markdown",
   "id": "0fcdf156",
   "metadata": {},
   "source": [
    "### 8.np.linespace()"
   ]
  },
  {
   "cell_type": "code",
   "execution_count": 102,
   "id": "f93b66c5",
   "metadata": {},
   "outputs": [
    {
     "data": {
      "text/plain": [
       "array([ 1.        ,  3.11111111,  5.22222222,  7.33333333,  9.44444444,\n",
       "       11.55555556, 13.66666667, 15.77777778, 17.88888889, 20.        ])"
      ]
     },
     "execution_count": 102,
     "metadata": {},
     "output_type": "execute_result"
    }
   ],
   "source": [
    "np.linspace(1,20,10)"
   ]
  },
  {
   "cell_type": "markdown",
   "id": "9ba8a4c1",
   "metadata": {},
   "source": [
    "### 9.np.logspace()"
   ]
  },
  {
   "cell_type": "code",
   "execution_count": 103,
   "id": "fa3b0e90",
   "metadata": {},
   "outputs": [
    {
     "data": {
      "text/plain": [
       "array([1.00000000e+01, 1.29154967e+03, 1.66810054e+05, 2.15443469e+07,\n",
       "       2.78255940e+09, 3.59381366e+11, 4.64158883e+13, 5.99484250e+15,\n",
       "       7.74263683e+17, 1.00000000e+20])"
      ]
     },
     "execution_count": 103,
     "metadata": {},
     "output_type": "execute_result"
    }
   ],
   "source": [
    "np.logspace(1,20,10)"
   ]
  },
  {
   "cell_type": "markdown",
   "id": "221f35d9",
   "metadata": {},
   "source": [
    "### 1.reshape()"
   ]
  },
  {
   "cell_type": "code",
   "execution_count": 104,
   "id": "81c83989",
   "metadata": {},
   "outputs": [
    {
     "data": {
      "text/plain": [
       "array([[1, 2, 3, 4],\n",
       "       [4, 8, 7, 9],\n",
       "       [4, 8, 9, 7]])"
      ]
     },
     "execution_count": 104,
     "metadata": {},
     "output_type": "execute_result"
    }
   ],
   "source": [
    "a_list=np.array([[1,2,3,4],[4,8,7,9],[4,8,9,7]])\n",
    "a_list #12=(2,6),(3,4),(12,1)"
   ]
  },
  {
   "cell_type": "code",
   "execution_count": 105,
   "id": "1ec596b6",
   "metadata": {},
   "outputs": [
    {
     "data": {
      "text/plain": [
       "array([[1, 2],\n",
       "       [3, 4],\n",
       "       [4, 8],\n",
       "       [7, 9],\n",
       "       [4, 8],\n",
       "       [9, 7]])"
      ]
     },
     "execution_count": 105,
     "metadata": {},
     "output_type": "execute_result"
    }
   ],
   "source": [
    "a_list.reshape(6,2)"
   ]
  },
  {
   "cell_type": "code",
   "execution_count": 106,
   "id": "66d4829b",
   "metadata": {},
   "outputs": [
    {
     "data": {
      "text/plain": [
       "(3, 4)"
      ]
     },
     "execution_count": 106,
     "metadata": {},
     "output_type": "execute_result"
    }
   ],
   "source": [
    "a_list.shape"
   ]
  },
  {
   "cell_type": "markdown",
   "id": "a646bdb2",
   "metadata": {},
   "source": [
    "### 2.Transpose()"
   ]
  },
  {
   "cell_type": "code",
   "execution_count": 107,
   "id": "9b83bb2e",
   "metadata": {},
   "outputs": [
    {
     "data": {
      "text/plain": [
       "array([[1, 2, 3, 4],\n",
       "       [5, 6, 7, 8]])"
      ]
     },
     "execution_count": 107,
     "metadata": {},
     "output_type": "execute_result"
    }
   ],
   "source": [
    "y=np.array([[1,2,3,4],[5,6,7,8]])\n",
    "y"
   ]
  },
  {
   "cell_type": "code",
   "execution_count": 108,
   "id": "55a800fd",
   "metadata": {},
   "outputs": [
    {
     "data": {
      "text/plain": [
       "array([[1, 5],\n",
       "       [2, 6],\n",
       "       [3, 7],\n",
       "       [4, 8]])"
      ]
     },
     "execution_count": 108,
     "metadata": {},
     "output_type": "execute_result"
    }
   ],
   "source": [
    "y.transpose()"
   ]
  },
  {
   "cell_type": "markdown",
   "id": "a72b8dbc",
   "metadata": {},
   "source": [
    "### 3.Concatenate()"
   ]
  },
  {
   "cell_type": "code",
   "execution_count": 109,
   "id": "a3b0ebd6",
   "metadata": {},
   "outputs": [
    {
     "data": {
      "text/plain": [
       "array([1, 2, 3, 4, 4, 8, 7, 9, 4, 8, 9, 7])"
      ]
     },
     "execution_count": 109,
     "metadata": {},
     "output_type": "execute_result"
    }
   ],
   "source": [
    "np.concatenate(a_list)"
   ]
  },
  {
   "cell_type": "code",
   "execution_count": 110,
   "id": "8a8fb74b",
   "metadata": {},
   "outputs": [
    {
     "data": {
      "text/plain": [
       "array([1, 2, 3, 4, 5, 6, 7, 8])"
      ]
     },
     "execution_count": 110,
     "metadata": {},
     "output_type": "execute_result"
    }
   ],
   "source": [
    "np.concatenate(y)"
   ]
  },
  {
   "cell_type": "markdown",
   "id": "386b461c",
   "metadata": {},
   "source": [
    "### 4.vstack()"
   ]
  },
  {
   "cell_type": "code",
   "execution_count": 111,
   "id": "9fae54e0",
   "metadata": {},
   "outputs": [
    {
     "data": {
      "text/plain": [
       "array([[1, 2, 3, 4],\n",
       "       [5, 6, 7, 8]])"
      ]
     },
     "execution_count": 111,
     "metadata": {},
     "output_type": "execute_result"
    }
   ],
   "source": [
    "np.vstack(y)"
   ]
  },
  {
   "cell_type": "code",
   "execution_count": 112,
   "id": "32a2389e",
   "metadata": {},
   "outputs": [
    {
     "data": {
      "text/plain": [
       "array([[1, 2, 3, 4],\n",
       "       [4, 8, 7, 9],\n",
       "       [4, 8, 9, 7]])"
      ]
     },
     "execution_count": 112,
     "metadata": {},
     "output_type": "execute_result"
    }
   ],
   "source": [
    "np.vstack(a_list)"
   ]
  },
  {
   "cell_type": "markdown",
   "id": "76a0979a",
   "metadata": {},
   "source": [
    "### 5.hstack()"
   ]
  },
  {
   "cell_type": "code",
   "execution_count": 113,
   "id": "26be9add",
   "metadata": {},
   "outputs": [
    {
     "data": {
      "text/plain": [
       "array([1, 2, 3, 4, 4, 8, 7, 9, 4, 8, 9, 7])"
      ]
     },
     "execution_count": 113,
     "metadata": {},
     "output_type": "execute_result"
    }
   ],
   "source": [
    "np.hstack(a_list)"
   ]
  },
  {
   "cell_type": "code",
   "execution_count": 114,
   "id": "f9849661",
   "metadata": {},
   "outputs": [
    {
     "data": {
      "text/plain": [
       "array([1, 2, 3, 4, 5, 6, 7, 8])"
      ]
     },
     "execution_count": 114,
     "metadata": {},
     "output_type": "execute_result"
    }
   ],
   "source": [
    "np.hstack(y)"
   ]
  },
  {
   "cell_type": "markdown",
   "id": "e16b3031",
   "metadata": {},
   "source": [
    "### 6.split()"
   ]
  },
  {
   "cell_type": "code",
   "execution_count": 115,
   "id": "1d522875",
   "metadata": {},
   "outputs": [
    {
     "data": {
      "text/plain": [
       "array([[1, 2, 3, 4],\n",
       "       [4, 8, 7, 9],\n",
       "       [4, 8, 9, 7]])"
      ]
     },
     "execution_count": 115,
     "metadata": {},
     "output_type": "execute_result"
    }
   ],
   "source": [
    "a_list"
   ]
  },
  {
   "cell_type": "code",
   "execution_count": 116,
   "id": "9a1c1248",
   "metadata": {},
   "outputs": [
    {
     "data": {
      "text/plain": [
       "array([0, 1, 2, 3, 4, 5, 6, 7, 8, 9])"
      ]
     },
     "execution_count": 116,
     "metadata": {},
     "output_type": "execute_result"
    }
   ],
   "source": [
    "e=np.arange(0,10)\n",
    "e"
   ]
  },
  {
   "cell_type": "code",
   "execution_count": 117,
   "id": "f0629148",
   "metadata": {},
   "outputs": [
    {
     "data": {
      "text/plain": [
       "[array([0, 1]), array([2, 3]), array([4, 5]), array([6, 7]), array([8, 9])]"
      ]
     },
     "execution_count": 117,
     "metadata": {},
     "output_type": "execute_result"
    }
   ],
   "source": [
    "np.split(e,(5))"
   ]
  },
  {
   "cell_type": "markdown",
   "id": "8ee36397",
   "metadata": {},
   "source": [
    "### 7.delete()"
   ]
  },
  {
   "cell_type": "code",
   "execution_count": 118,
   "id": "c5997fe9",
   "metadata": {},
   "outputs": [
    {
     "data": {
      "text/plain": [
       "array([0, 1, 2, 3, 4, 5, 6, 7, 8])"
      ]
     },
     "execution_count": 118,
     "metadata": {},
     "output_type": "execute_result"
    }
   ],
   "source": [
    "np.delete(e,9)"
   ]
  },
  {
   "cell_type": "markdown",
   "id": "70e6e560",
   "metadata": {},
   "source": [
    "### 8.insert()"
   ]
  },
  {
   "cell_type": "code",
   "execution_count": 119,
   "id": "cda3173f",
   "metadata": {},
   "outputs": [
    {
     "data": {
      "text/plain": [
       "array([0, 1, 2, 3, 4, 1, 5, 6, 7, 8, 9])"
      ]
     },
     "execution_count": 119,
     "metadata": {},
     "output_type": "execute_result"
    }
   ],
   "source": [
    "np.insert(e,5,1)"
   ]
  },
  {
   "cell_type": "markdown",
   "id": "692d0a72",
   "metadata": {},
   "source": [
    "### 9.append()"
   ]
  },
  {
   "cell_type": "code",
   "execution_count": 120,
   "id": "e04e5247",
   "metadata": {},
   "outputs": [
    {
     "data": {
      "text/plain": [
       "array([0, 1, 2, 3, 4, 5, 6, 7, 8, 9, 1])"
      ]
     },
     "execution_count": 120,
     "metadata": {},
     "output_type": "execute_result"
    }
   ],
   "source": [
    "np.append(e,1)"
   ]
  },
  {
   "cell_type": "markdown",
   "id": "2ca1ee2e",
   "metadata": {},
   "source": [
    "### Mathematical Functions:"
   ]
  },
  {
   "cell_type": "markdown",
   "id": "2a077813",
   "metadata": {},
   "source": [
    "### 1.numpy.add"
   ]
  },
  {
   "cell_type": "code",
   "execution_count": 121,
   "id": "1005bc67",
   "metadata": {
    "scrolled": true
   },
   "outputs": [
    {
     "data": {
      "text/plain": [
       "array([[1, 2, 3, 6],\n",
       "       [4, 8, 7, 9],\n",
       "       [4, 8, 9, 7]])"
      ]
     },
     "execution_count": 121,
     "metadata": {},
     "output_type": "execute_result"
    }
   ],
   "source": [
    "a_list1"
   ]
  },
  {
   "cell_type": "code",
   "execution_count": 122,
   "id": "df280ec9",
   "metadata": {},
   "outputs": [
    {
     "data": {
      "text/plain": [
       "array([[10, 20, 30, 40],\n",
       "       [50, 30, 20, 10],\n",
       "       [60, 70, 40, 30]])"
      ]
     },
     "execution_count": 122,
     "metadata": {},
     "output_type": "execute_result"
    }
   ],
   "source": [
    "b_list1=np.array([[10,20,30,40],[50,30,20,10],[60,70,40,30]])\n",
    "b_list1"
   ]
  },
  {
   "cell_type": "code",
   "execution_count": 123,
   "id": "611433c8",
   "metadata": {},
   "outputs": [
    {
     "data": {
      "text/plain": [
       "array([[11, 22, 33, 46],\n",
       "       [54, 38, 27, 19],\n",
       "       [64, 78, 49, 37]])"
      ]
     },
     "execution_count": 123,
     "metadata": {},
     "output_type": "execute_result"
    }
   ],
   "source": [
    "np.add(a_list1,b_list1)"
   ]
  },
  {
   "cell_type": "code",
   "execution_count": 124,
   "id": "db19fe01",
   "metadata": {},
   "outputs": [
    {
     "data": {
      "text/plain": [
       "array([[11, 22, 33, 46],\n",
       "       [54, 38, 27, 19],\n",
       "       [64, 78, 49, 37]])"
      ]
     },
     "execution_count": 124,
     "metadata": {},
     "output_type": "execute_result"
    }
   ],
   "source": [
    "b_list1+a_list1"
   ]
  },
  {
   "cell_type": "markdown",
   "id": "1ddd9e6e",
   "metadata": {},
   "source": [
    "### 2.numpy.subtract"
   ]
  },
  {
   "cell_type": "code",
   "execution_count": 125,
   "id": "2a3ab1aa",
   "metadata": {},
   "outputs": [
    {
     "data": {
      "text/plain": [
       "array([[ -9, -18, -27, -34],\n",
       "       [-46, -22, -13,  -1],\n",
       "       [-56, -62, -31, -23]])"
      ]
     },
     "execution_count": 125,
     "metadata": {},
     "output_type": "execute_result"
    }
   ],
   "source": [
    "np.subtract(a_list1,b_list1)"
   ]
  },
  {
   "cell_type": "code",
   "execution_count": 126,
   "id": "7a6260e9",
   "metadata": {},
   "outputs": [
    {
     "data": {
      "text/plain": [
       "array([[ 9, 18, 27, 34],\n",
       "       [46, 22, 13,  1],\n",
       "       [56, 62, 31, 23]])"
      ]
     },
     "execution_count": 126,
     "metadata": {},
     "output_type": "execute_result"
    }
   ],
   "source": [
    "b_list1-a_list1"
   ]
  },
  {
   "cell_type": "markdown",
   "id": "9e188766",
   "metadata": {},
   "source": [
    "### 3.numpy.multiply"
   ]
  },
  {
   "cell_type": "code",
   "execution_count": 127,
   "id": "f4ef709f",
   "metadata": {},
   "outputs": [
    {
     "data": {
      "text/plain": [
       "array([[ 10,  40,  90, 240],\n",
       "       [200, 240, 140,  90],\n",
       "       [240, 560, 360, 210]])"
      ]
     },
     "execution_count": 127,
     "metadata": {},
     "output_type": "execute_result"
    }
   ],
   "source": [
    "np.multiply(a_list1,b_list1)"
   ]
  },
  {
   "cell_type": "code",
   "execution_count": 128,
   "id": "190e2ce5",
   "metadata": {},
   "outputs": [
    {
     "data": {
      "text/plain": [
       "array([[ 10,  40,  90, 240],\n",
       "       [200, 240, 140,  90],\n",
       "       [240, 560, 360, 210]])"
      ]
     },
     "execution_count": 128,
     "metadata": {},
     "output_type": "execute_result"
    }
   ],
   "source": [
    "b_list1*a_list1"
   ]
  },
  {
   "cell_type": "markdown",
   "id": "a70f94db",
   "metadata": {},
   "source": [
    "### 4.numpy.divide"
   ]
  },
  {
   "cell_type": "code",
   "execution_count": 163,
   "id": "2261e728",
   "metadata": {},
   "outputs": [
    {
     "data": {
      "text/plain": [
       "array([[0.1       , 0.1       , 0.1       , 0.15      ],\n",
       "       [0.08      , 0.26666667, 0.35      , 0.9       ],\n",
       "       [0.06666667, 0.11428571, 0.225     , 0.23333333]])"
      ]
     },
     "execution_count": 163,
     "metadata": {},
     "output_type": "execute_result"
    }
   ],
   "source": [
    "np.divide(a_list1,b_list1)"
   ]
  },
  {
   "cell_type": "code",
   "execution_count": 165,
   "id": "13bf5b5a",
   "metadata": {},
   "outputs": [
    {
     "data": {
      "text/plain": [
       "array([[0.1       , 0.1       , 0.1       , 0.15      ],\n",
       "       [0.08      , 0.26666667, 0.35      , 0.9       ],\n",
       "       [0.06666667, 0.11428571, 0.225     , 0.23333333]])"
      ]
     },
     "execution_count": 165,
     "metadata": {},
     "output_type": "execute_result"
    }
   ],
   "source": [
    "a_list1/b_list1"
   ]
  },
  {
   "cell_type": "markdown",
   "id": "8f9334a7",
   "metadata": {},
   "source": [
    "### 5.numpy.power"
   ]
  },
  {
   "cell_type": "code",
   "execution_count": 131,
   "id": "3e423c71",
   "metadata": {},
   "outputs": [
    {
     "data": {
      "text/plain": [
       "array([[          1,     1048576, -1010140999,           0],\n",
       "       [          0,           0, -1199696159,  -808182895],\n",
       "       [          0,           0, -1669737407,  1878557649]])"
      ]
     },
     "execution_count": 131,
     "metadata": {},
     "output_type": "execute_result"
    }
   ],
   "source": [
    "np.power(a_list1,b_list1)"
   ]
  },
  {
   "cell_type": "code",
   "execution_count": 132,
   "id": "7c53859f",
   "metadata": {},
   "outputs": [
    {
     "data": {
      "text/plain": [
       "array([[         10,         400,       27000,  -198967296],\n",
       "       [    6250000, -1029996288,  1280000000,  1000000000],\n",
       "       [   12960000,   999596288,   671088640,   395163520]])"
      ]
     },
     "execution_count": 132,
     "metadata": {},
     "output_type": "execute_result"
    }
   ],
   "source": [
    "b_list1**a_list1"
   ]
  },
  {
   "cell_type": "code",
   "execution_count": 133,
   "id": "ba2a0ccf",
   "metadata": {},
   "outputs": [
    {
     "data": {
      "text/plain": [
       "array([[1, 2, 3, 6],\n",
       "       [4, 8, 7, 9],\n",
       "       [4, 8, 9, 7]])"
      ]
     },
     "execution_count": 133,
     "metadata": {},
     "output_type": "execute_result"
    }
   ],
   "source": [
    "a_list1"
   ]
  },
  {
   "cell_type": "code",
   "execution_count": 134,
   "id": "9eb099da",
   "metadata": {},
   "outputs": [
    {
     "data": {
      "text/plain": [
       "array([[10, 20, 30, 40],\n",
       "       [50, 30, 20, 10],\n",
       "       [60, 70, 40, 30]])"
      ]
     },
     "execution_count": 134,
     "metadata": {},
     "output_type": "execute_result"
    }
   ],
   "source": [
    "b_list1"
   ]
  },
  {
   "cell_type": "code",
   "execution_count": 135,
   "id": "0670d57a",
   "metadata": {},
   "outputs": [
    {
     "data": {
      "text/plain": [
       "400"
      ]
     },
     "execution_count": 135,
     "metadata": {},
     "output_type": "execute_result"
    }
   ],
   "source": [
    "20**2"
   ]
  },
  {
   "cell_type": "markdown",
   "id": "e7108771",
   "metadata": {},
   "source": [
    "### 6.numpy.sqrt"
   ]
  },
  {
   "cell_type": "code",
   "execution_count": 137,
   "id": "6826fae3",
   "metadata": {},
   "outputs": [
    {
     "data": {
      "text/plain": [
       "array([[1.        , 1.41421356, 1.73205081, 2.44948974],\n",
       "       [2.        , 2.82842712, 2.64575131, 3.        ],\n",
       "       [2.        , 2.82842712, 3.        , 2.64575131]])"
      ]
     },
     "execution_count": 137,
     "metadata": {},
     "output_type": "execute_result"
    }
   ],
   "source": [
    "np.sqrt(a_list1)"
   ]
  },
  {
   "cell_type": "code",
   "execution_count": 138,
   "id": "456c8be3",
   "metadata": {},
   "outputs": [
    {
     "data": {
      "text/plain": [
       "array([[3.16227766, 4.47213595, 5.47722558, 6.32455532],\n",
       "       [7.07106781, 5.47722558, 4.47213595, 3.16227766],\n",
       "       [7.74596669, 8.36660027, 6.32455532, 5.47722558]])"
      ]
     },
     "execution_count": 138,
     "metadata": {},
     "output_type": "execute_result"
    }
   ],
   "source": [
    "np.sqrt(b_list1)"
   ]
  },
  {
   "cell_type": "code",
   "execution_count": 139,
   "id": "a2200dd1",
   "metadata": {},
   "outputs": [
    {
     "data": {
      "text/plain": [
       "array([[ 1,  4,  9, 36],\n",
       "       [16, 64, 49, 81],\n",
       "       [16, 64, 81, 49]])"
      ]
     },
     "execution_count": 139,
     "metadata": {},
     "output_type": "execute_result"
    }
   ],
   "source": [
    "a_list1**2"
   ]
  },
  {
   "cell_type": "code",
   "execution_count": 140,
   "id": "facb27a9",
   "metadata": {},
   "outputs": [
    {
     "data": {
      "text/plain": [
       "array([[ 100,  400,  900, 1600],\n",
       "       [2500,  900,  400,  100],\n",
       "       [3600, 4900, 1600,  900]])"
      ]
     },
     "execution_count": 140,
     "metadata": {},
     "output_type": "execute_result"
    }
   ],
   "source": [
    "b_list1**2"
   ]
  },
  {
   "cell_type": "markdown",
   "id": "5ad34e6c",
   "metadata": {},
   "source": [
    "### 7.numpy.sum()"
   ]
  },
  {
   "cell_type": "code",
   "execution_count": 141,
   "id": "c5c75c5d",
   "metadata": {},
   "outputs": [
    {
     "data": {
      "text/plain": [
       "68"
      ]
     },
     "execution_count": 141,
     "metadata": {},
     "output_type": "execute_result"
    }
   ],
   "source": [
    "a_list1.sum()"
   ]
  },
  {
   "cell_type": "code",
   "execution_count": 142,
   "id": "471a1343",
   "metadata": {},
   "outputs": [
    {
     "data": {
      "text/plain": [
       "410"
      ]
     },
     "execution_count": 142,
     "metadata": {},
     "output_type": "execute_result"
    }
   ],
   "source": [
    "b_list1.sum()"
   ]
  },
  {
   "cell_type": "markdown",
   "id": "4651c1e1",
   "metadata": {},
   "source": [
    "### 8.numpy.mean()"
   ]
  },
  {
   "cell_type": "code",
   "execution_count": 143,
   "id": "576bb38e",
   "metadata": {},
   "outputs": [
    {
     "data": {
      "text/plain": [
       "5.666666666666667"
      ]
     },
     "execution_count": 143,
     "metadata": {},
     "output_type": "execute_result"
    }
   ],
   "source": [
    "a_list1.mean()"
   ]
  },
  {
   "cell_type": "code",
   "execution_count": 144,
   "id": "2faf8e71",
   "metadata": {},
   "outputs": [
    {
     "data": {
      "text/plain": [
       "34.166666666666664"
      ]
     },
     "execution_count": 144,
     "metadata": {},
     "output_type": "execute_result"
    }
   ],
   "source": [
    "b_list1.mean()"
   ]
  },
  {
   "cell_type": "markdown",
   "id": "7fae3359",
   "metadata": {},
   "source": [
    "### 9.numpy.median()"
   ]
  },
  {
   "cell_type": "code",
   "execution_count": 148,
   "id": "798b167f",
   "metadata": {},
   "outputs": [
    {
     "data": {
      "text/plain": [
       "6.5"
      ]
     },
     "execution_count": 148,
     "metadata": {},
     "output_type": "execute_result"
    }
   ],
   "source": [
    "np.median(a_list1)"
   ]
  },
  {
   "cell_type": "code",
   "execution_count": 149,
   "id": "65aa74e2",
   "metadata": {},
   "outputs": [
    {
     "data": {
      "text/plain": [
       "30.0"
      ]
     },
     "execution_count": 149,
     "metadata": {},
     "output_type": "execute_result"
    }
   ],
   "source": [
    "np.median(b_list1)"
   ]
  },
  {
   "cell_type": "markdown",
   "id": "e34df5ad",
   "metadata": {},
   "source": [
    "### 10.numpy.min()"
   ]
  },
  {
   "cell_type": "code",
   "execution_count": 150,
   "id": "d2594254",
   "metadata": {},
   "outputs": [
    {
     "data": {
      "text/plain": [
       "1"
      ]
     },
     "execution_count": 150,
     "metadata": {},
     "output_type": "execute_result"
    }
   ],
   "source": [
    "np.min(a_list1)"
   ]
  },
  {
   "cell_type": "code",
   "execution_count": 151,
   "id": "47a5d68f",
   "metadata": {},
   "outputs": [
    {
     "data": {
      "text/plain": [
       "70"
      ]
     },
     "execution_count": 151,
     "metadata": {},
     "output_type": "execute_result"
    }
   ],
   "source": [
    "np.max(b_list1)"
   ]
  },
  {
   "cell_type": "markdown",
   "id": "3839b498",
   "metadata": {},
   "source": [
    "### indexing and slicing"
   ]
  },
  {
   "cell_type": "markdown",
   "id": "46d848fe",
   "metadata": {},
   "source": [
    "#### indexing of 2D array"
   ]
  },
  {
   "cell_type": "code",
   "execution_count": 152,
   "id": "29aa574b",
   "metadata": {},
   "outputs": [
    {
     "data": {
      "text/plain": [
       "2"
      ]
     },
     "execution_count": 152,
     "metadata": {},
     "output_type": "execute_result"
    }
   ],
   "source": [
    "a=np.array([[5,2,14],[1,2,3]])\n",
    "a.ndim"
   ]
  },
  {
   "cell_type": "code",
   "execution_count": 153,
   "id": "8e7122ca",
   "metadata": {},
   "outputs": [
    {
     "data": {
      "text/plain": [
       "2"
      ]
     },
     "execution_count": 153,
     "metadata": {},
     "output_type": "execute_result"
    }
   ],
   "source": [
    "a[0][1]"
   ]
  },
  {
   "cell_type": "code",
   "execution_count": 154,
   "id": "8067fc1d",
   "metadata": {},
   "outputs": [
    {
     "data": {
      "text/plain": [
       "1"
      ]
     },
     "execution_count": 154,
     "metadata": {},
     "output_type": "execute_result"
    }
   ],
   "source": [
    "a[1][0]"
   ]
  },
  {
   "cell_type": "code",
   "execution_count": 155,
   "id": "b05a3630",
   "metadata": {},
   "outputs": [],
   "source": [
    "arr1=np.array([[[10,11,12],[13,14,15],[16,17,18]],\n",
    "               [[20,21,21],[23,24,25],[26,27,28]],\n",
    "               [[30,31,32],[33,34,35],[36,37,38]]])"
   ]
  },
  {
   "cell_type": "code",
   "execution_count": 159,
   "id": "c4ea0fb4",
   "metadata": {},
   "outputs": [
    {
     "data": {
      "text/plain": [
       "15"
      ]
     },
     "execution_count": 159,
     "metadata": {},
     "output_type": "execute_result"
    }
   ],
   "source": [
    "arr1[0][1][2]"
   ]
  },
  {
   "cell_type": "code",
   "execution_count": 157,
   "id": "dad7d513",
   "metadata": {},
   "outputs": [
    {
     "data": {
      "text/plain": [
       "33"
      ]
     },
     "execution_count": 157,
     "metadata": {},
     "output_type": "execute_result"
    }
   ],
   "source": [
    "arr1[2][1][0]"
   ]
  },
  {
   "cell_type": "markdown",
   "id": "44a11bcd",
   "metadata": {},
   "source": [
    "#### Indexing of 3D array"
   ]
  },
  {
   "cell_type": "markdown",
   "id": "3c813647",
   "metadata": {},
   "source": [
    "### Creating Randome numbers"
   ]
  },
  {
   "cell_type": "code",
   "execution_count": 160,
   "id": "668eed16",
   "metadata": {},
   "outputs": [
    {
     "data": {
      "text/plain": [
       "array([0.34617133, 0.5175489 , 0.0719339 , 0.43054306])"
      ]
     },
     "execution_count": 160,
     "metadata": {},
     "output_type": "execute_result"
    }
   ],
   "source": [
    "np.random.rand(4)"
   ]
  },
  {
   "cell_type": "code",
   "execution_count": 161,
   "id": "3cf9c4df",
   "metadata": {},
   "outputs": [
    {
     "data": {
      "text/plain": [
       "array([[0.13297846, 0.35153733, 0.39966701, 0.16075876],\n",
       "       [0.16818011, 0.45782141, 0.51282256, 0.01080493],\n",
       "       [0.844712  , 0.11523181, 0.70756792, 0.21216528],\n",
       "       [0.1258657 , 0.18353267, 0.96602028, 0.50987457]])"
      ]
     },
     "execution_count": 161,
     "metadata": {},
     "output_type": "execute_result"
    }
   ],
   "source": [
    "np.random.rand(4,4)"
   ]
  },
  {
   "cell_type": "code",
   "execution_count": 162,
   "id": "6bef46f4",
   "metadata": {},
   "outputs": [
    {
     "name": "stdout",
     "output_type": "stream",
     "text": [
      "[[[0.22176652 0.97696879 0.31394319 0.86862682]\n",
      "  [0.67774422 0.70422155 0.77966369 0.54766178]\n",
      "  [0.56926227 0.98734089 0.59439577 0.78790055]\n",
      "  [0.75108371 0.34149135 0.28200704 0.45100922]]\n",
      "\n",
      " [[0.09789567 0.89603258 0.05587389 0.4481528 ]\n",
      "  [0.46442641 0.37460523 0.4377784  0.02161683]\n",
      "  [0.103496   0.70457875 0.22018674 0.41460617]\n",
      "  [0.71041679 0.60085249 0.39396077 0.48968806]]\n",
      "\n",
      " [[0.43093052 0.20233792 0.18183967 0.54283559]\n",
      "  [0.06603678 0.23554555 0.47742213 0.10836226]\n",
      "  [0.51128759 0.86695091 0.58672695 0.01457804]\n",
      "  [0.86340519 0.35840992 0.87664    0.73624671]]\n",
      "\n",
      " [[0.07019462 0.45176842 0.64883625 0.26194209]\n",
      "  [0.83097058 0.61518612 0.68004986 0.9195129 ]\n",
      "  [0.11550893 0.12788051 0.19260375 0.60616915]\n",
      "  [0.26201902 0.39718182 0.98254713 0.00872003]]]\n"
     ]
    },
    {
     "data": {
      "text/plain": [
       "3"
      ]
     },
     "execution_count": 162,
     "metadata": {},
     "output_type": "execute_result"
    }
   ],
   "source": [
    "a=np.random.rand(4,4,4)\n",
    "print(a)\n",
    "a.ndim"
   ]
  },
  {
   "cell_type": "code",
   "execution_count": null,
   "id": "f9765f6d",
   "metadata": {},
   "outputs": [],
   "source": []
  },
  {
   "cell_type": "code",
   "execution_count": null,
   "id": "299b5fdc",
   "metadata": {},
   "outputs": [],
   "source": []
  },
  {
   "cell_type": "code",
   "execution_count": null,
   "id": "fe6e74ad",
   "metadata": {},
   "outputs": [],
   "source": []
  },
  {
   "cell_type": "code",
   "execution_count": null,
   "id": "a2ac473c",
   "metadata": {},
   "outputs": [],
   "source": []
  },
  {
   "cell_type": "code",
   "execution_count": null,
   "id": "3dc27ffc",
   "metadata": {},
   "outputs": [],
   "source": []
  },
  {
   "cell_type": "code",
   "execution_count": null,
   "id": "c67fb956",
   "metadata": {},
   "outputs": [],
   "source": []
  },
  {
   "cell_type": "code",
   "execution_count": null,
   "id": "0a5bd81a",
   "metadata": {},
   "outputs": [],
   "source": []
  },
  {
   "cell_type": "code",
   "execution_count": null,
   "id": "907b011b",
   "metadata": {},
   "outputs": [],
   "source": []
  },
  {
   "cell_type": "code",
   "execution_count": null,
   "id": "4a7aa73a",
   "metadata": {},
   "outputs": [],
   "source": []
  },
  {
   "cell_type": "code",
   "execution_count": null,
   "id": "78c85a73",
   "metadata": {},
   "outputs": [],
   "source": []
  },
  {
   "cell_type": "code",
   "execution_count": null,
   "id": "40111769",
   "metadata": {},
   "outputs": [],
   "source": []
  },
  {
   "cell_type": "code",
   "execution_count": null,
   "id": "1eae125a",
   "metadata": {},
   "outputs": [],
   "source": []
  },
  {
   "cell_type": "code",
   "execution_count": null,
   "id": "15c0b046",
   "metadata": {},
   "outputs": [],
   "source": []
  }
 ],
 "metadata": {
  "kernelspec": {
   "display_name": "Python 3 (ipykernel)",
   "language": "python",
   "name": "python3"
  },
  "language_info": {
   "codemirror_mode": {
    "name": "ipython",
    "version": 3
   },
   "file_extension": ".py",
   "mimetype": "text/x-python",
   "name": "python",
   "nbconvert_exporter": "python",
   "pygments_lexer": "ipython3",
   "version": "3.11.3"
  }
 },
 "nbformat": 4,
 "nbformat_minor": 5
}
