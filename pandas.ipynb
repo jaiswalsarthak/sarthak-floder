{
 "cells": [
  {
   "cell_type": "code",
   "execution_count": 5,
   "id": "06f07195",
   "metadata": {},
   "outputs": [
    {
     "name": "stdout",
     "output_type": "stream",
     "text": [
      "3.11.3 | packaged by Anaconda, Inc. | (main, Apr 19 2023, 23:46:34) [MSC v.1916 64 bit (AMD64)]\n"
     ]
    }
   ],
   "source": [
    "import sys\n",
    "print(sys.version)"
   ]
  },
  {
   "cell_type": "code",
   "execution_count": 9,
   "id": "f9f28967",
   "metadata": {},
   "outputs": [],
   "source": [
    "import numpy"
   ]
  },
  {
   "cell_type": "code",
   "execution_count": 6,
   "id": "eed90736",
   "metadata": {},
   "outputs": [],
   "source": [
    "import pandas"
   ]
  },
  {
   "cell_type": "code",
   "execution_count": 7,
   "id": "901f9fde",
   "metadata": {
    "scrolled": false
   },
   "outputs": [
    {
     "data": {
      "text/plain": [
       "'1.5.3'"
      ]
     },
     "execution_count": 7,
     "metadata": {},
     "output_type": "execute_result"
    }
   ],
   "source": [
    "pandas.__version__  #tocheck pandfas version "
   ]
  },
  {
   "cell_type": "code",
   "execution_count": 10,
   "id": "e5e5f851",
   "metadata": {},
   "outputs": [
    {
     "data": {
      "text/plain": [
       "'1.24.3'"
      ]
     },
     "execution_count": 10,
     "metadata": {},
     "output_type": "execute_result"
    }
   ],
   "source": [
    "numpy.__version__"
   ]
  },
  {
   "cell_type": "code",
   "execution_count": 8,
   "id": "06cea54b",
   "metadata": {
    "scrolled": true
   },
   "outputs": [
    {
     "name": "stdout",
     "output_type": "stream",
     "text": [
      "Requirement already satisfied: pandas in c:\\users\\admin\\anaconda3\\lib\\site-packages (1.5.3)\n",
      "Requirement already satisfied: python-dateutil>=2.8.1 in c:\\users\\admin\\anaconda3\\lib\\site-packages (from pandas) (2.8.2)\n",
      "Requirement already satisfied: pytz>=2020.1 in c:\\users\\admin\\anaconda3\\lib\\site-packages (from pandas) (2022.7)\n",
      "Requirement already satisfied: numpy>=1.21.0 in c:\\users\\admin\\anaconda3\\lib\\site-packages (from pandas) (1.24.3)\n",
      "Requirement already satisfied: six>=1.5 in c:\\users\\admin\\anaconda3\\lib\\site-packages (from python-dateutil>=2.8.1->pandas) (1.16.0)\n"
     ]
    }
   ],
   "source": [
    "!pip install pandas"
   ]
  },
  {
   "cell_type": "code",
   "execution_count": 12,
   "id": "8161491b",
   "metadata": {},
   "outputs": [],
   "source": [
    "import pandas as pd"
   ]
  },
  {
   "cell_type": "markdown",
   "id": "5c41eb6a",
   "metadata": {},
   "source": [
    "## Series in pandas"
   ]
  },
  {
   "cell_type": "code",
   "execution_count": 13,
   "id": "1e615605",
   "metadata": {},
   "outputs": [
    {
     "name": "stdout",
     "output_type": "stream",
     "text": [
      "0          1\n",
      "1          2\n",
      "2        3.5\n",
      "3    chetana\n",
      "dtype: object\n"
     ]
    }
   ],
   "source": [
    "a=[1,2,3.5,\"chetana\"]\n",
    "series1=pd.Series(a)  #1D\n",
    "print(series1)"
   ]
  },
  {
   "cell_type": "code",
   "execution_count": 14,
   "id": "44b8a521",
   "metadata": {},
   "outputs": [
    {
     "data": {
      "text/plain": [
       "'chetana'"
      ]
     },
     "execution_count": 14,
     "metadata": {},
     "output_type": "execute_result"
    }
   ],
   "source": [
    "a=[1,2,3.5,\"chetana\"]\n",
    "a[3]"
   ]
  },
  {
   "cell_type": "code",
   "execution_count": 15,
   "id": "bf182045",
   "metadata": {
    "scrolled": true
   },
   "outputs": [
    {
     "data": {
      "text/plain": [
       "'chetana'"
      ]
     },
     "execution_count": 15,
     "metadata": {},
     "output_type": "execute_result"
    }
   ],
   "source": [
    "series1[3]"
   ]
  },
  {
   "cell_type": "code",
   "execution_count": 16,
   "id": "0a309376",
   "metadata": {},
   "outputs": [
    {
     "name": "stdout",
     "output_type": "stream",
     "text": [
      "1          1\n",
      "2          2\n",
      "3        3.5\n",
      "4    chetana\n",
      "dtype: object\n"
     ]
    }
   ],
   "source": [
    "series1=pd.Series(a,index=[1,2,3,4])  #1D\n",
    "print(series1)"
   ]
  },
  {
   "cell_type": "code",
   "execution_count": 23,
   "id": "bef5aea6",
   "metadata": {
    "scrolled": false
   },
   "outputs": [
    {
     "name": "stdout",
     "output_type": "stream",
     "text": [
      "a          1\n",
      "b          2\n",
      "c        3.5\n",
      "d    chetana\n",
      "dtype: object\n"
     ]
    }
   ],
   "source": [
    "series1=pd.Series(a,index=[\"a\",\"b\",\"c\",\"d\"])  #1D\n",
    "print(series1)"
   ]
  },
  {
   "cell_type": "code",
   "execution_count": 27,
   "id": "5a20f02d",
   "metadata": {},
   "outputs": [
    {
     "name": "stdout",
     "output_type": "stream",
     "text": [
      "3.5\n"
     ]
    }
   ],
   "source": [
    "print(series1[\"c\"])"
   ]
  },
  {
   "cell_type": "code",
   "execution_count": 20,
   "id": "6be4825b",
   "metadata": {},
   "outputs": [
    {
     "name": "stdout",
     "output_type": "stream",
     "text": [
      "name       chetana\n",
      "age             26\n",
      "ID               4\n",
      "roll_no         12\n",
      "dtype: object\n"
     ]
    }
   ],
   "source": [
    "dict1={\"name\":\"chetana\",\"age\":26,\"ID\":4,\"roll_no\":12}\n",
    "s=pd.Series(dict1)\n",
    "print(s)"
   ]
  },
  {
   "cell_type": "code",
   "execution_count": 21,
   "id": "c7e542b9",
   "metadata": {},
   "outputs": [],
   "source": [
    "s=pd.Series(dict1,index=[\"name\",\"age\",\"roll_no\"])"
   ]
  },
  {
   "cell_type": "code",
   "execution_count": 22,
   "id": "80c7d9fc",
   "metadata": {},
   "outputs": [
    {
     "data": {
      "text/plain": [
       "name       chetana\n",
       "age             26\n",
       "roll_no         12\n",
       "dtype: object"
      ]
     },
     "execution_count": 22,
     "metadata": {},
     "output_type": "execute_result"
    }
   ],
   "source": [
    "s"
   ]
  },
  {
   "cell_type": "code",
   "execution_count": 32,
   "id": "2f2b95b6",
   "metadata": {},
   "outputs": [
    {
     "name": "stdout",
     "output_type": "stream",
     "text": [
      "      name  age  ID\n",
      "0    vivek   23   1\n",
      "1  chetana   26   2\n",
      "2  sarthak   26   3\n",
      "3    sayli   20   4\n"
     ]
    }
   ],
   "source": [
    "data={\n",
    "    \"name\":[\"vivek\",\"chetana\",\"sarthak\",\"sayli\"],\n",
    "    \"age\":[23,26,26,20],\n",
    "    \"ID\":[1,2,3,4]\n",
    "    \n",
    "  }\n",
    "d1=pd.DataFrame(data)\n",
    "print(d1)"
   ]
  },
  {
   "cell_type": "code",
   "execution_count": 51,
   "id": "05cf4c36",
   "metadata": {},
   "outputs": [
    {
     "name": "stdout",
     "output_type": "stream",
     "text": [
      "      name  age  ID\n",
      "0    vivek   23   1\n",
      "1  chetana   26   2\n",
      "2  sarthak   26   3\n"
     ]
    }
   ],
   "source": [
    "print(d1.loc[0:2])   #[row,col]"
   ]
  },
  {
   "cell_type": "code",
   "execution_count": 52,
   "id": "71874db2",
   "metadata": {},
   "outputs": [
    {
     "name": "stdout",
     "output_type": "stream",
     "text": [
      "    name  age\n",
      "0  vivek   23\n"
     ]
    }
   ],
   "source": [
    "print(d1.iloc[0:1,0:2])  "
   ]
  },
  {
   "cell_type": "code",
   "execution_count": 53,
   "id": "03baf7f0",
   "metadata": {},
   "outputs": [],
   "source": [
    "df=pd.read_csv(r\"C:\\Users\\ipcs\\Downloads\\FitBit data.csv\")"
   ]
  },
  {
   "cell_type": "code",
   "execution_count": 54,
   "id": "cf7065b7",
   "metadata": {},
   "outputs": [
    {
     "data": {
      "text/html": [
       "<div>\n",
       "<style scoped>\n",
       "    .dataframe tbody tr th:only-of-type {\n",
       "        vertical-align: middle;\n",
       "    }\n",
       "\n",
       "    .dataframe tbody tr th {\n",
       "        vertical-align: top;\n",
       "    }\n",
       "\n",
       "    .dataframe thead th {\n",
       "        text-align: right;\n",
       "    }\n",
       "</style>\n",
       "<table border=\"1\" class=\"dataframe\">\n",
       "  <thead>\n",
       "    <tr style=\"text-align: right;\">\n",
       "      <th></th>\n",
       "      <th>Id</th>\n",
       "      <th>ActivityDate</th>\n",
       "      <th>TotalSteps</th>\n",
       "      <th>TotalDistance</th>\n",
       "      <th>TrackerDistance</th>\n",
       "      <th>LoggedActivitiesDistance</th>\n",
       "      <th>VeryActiveDistance</th>\n",
       "      <th>ModeratelyActiveDistance</th>\n",
       "      <th>LightActiveDistance</th>\n",
       "      <th>SedentaryActiveDistance</th>\n",
       "      <th>VeryActiveMinutes</th>\n",
       "      <th>FairlyActiveMinutes</th>\n",
       "      <th>LightlyActiveMinutes</th>\n",
       "      <th>SedentaryMinutes</th>\n",
       "      <th>Calories</th>\n",
       "    </tr>\n",
       "  </thead>\n",
       "  <tbody>\n",
       "    <tr>\n",
       "      <th>0</th>\n",
       "      <td>1503960366</td>\n",
       "      <td>3/25/2016</td>\n",
       "      <td>11004</td>\n",
       "      <td>7.110000</td>\n",
       "      <td>7.110000</td>\n",
       "      <td>0.0</td>\n",
       "      <td>2.57</td>\n",
       "      <td>0.46</td>\n",
       "      <td>4.07</td>\n",
       "      <td>0.00</td>\n",
       "      <td>33</td>\n",
       "      <td>12</td>\n",
       "      <td>205</td>\n",
       "      <td>804</td>\n",
       "      <td>1819</td>\n",
       "    </tr>\n",
       "    <tr>\n",
       "      <th>1</th>\n",
       "      <td>1503960366</td>\n",
       "      <td>3/26/2016</td>\n",
       "      <td>17609</td>\n",
       "      <td>11.550000</td>\n",
       "      <td>11.550000</td>\n",
       "      <td>0.0</td>\n",
       "      <td>6.92</td>\n",
       "      <td>0.73</td>\n",
       "      <td>3.91</td>\n",
       "      <td>0.00</td>\n",
       "      <td>89</td>\n",
       "      <td>17</td>\n",
       "      <td>274</td>\n",
       "      <td>588</td>\n",
       "      <td>2154</td>\n",
       "    </tr>\n",
       "    <tr>\n",
       "      <th>2</th>\n",
       "      <td>1503960366</td>\n",
       "      <td>3/27/2016</td>\n",
       "      <td>12736</td>\n",
       "      <td>8.530000</td>\n",
       "      <td>8.530000</td>\n",
       "      <td>0.0</td>\n",
       "      <td>4.66</td>\n",
       "      <td>0.16</td>\n",
       "      <td>3.71</td>\n",
       "      <td>0.00</td>\n",
       "      <td>56</td>\n",
       "      <td>5</td>\n",
       "      <td>268</td>\n",
       "      <td>605</td>\n",
       "      <td>1944</td>\n",
       "    </tr>\n",
       "    <tr>\n",
       "      <th>3</th>\n",
       "      <td>1503960366</td>\n",
       "      <td>3/28/2016</td>\n",
       "      <td>13231</td>\n",
       "      <td>8.930000</td>\n",
       "      <td>8.930000</td>\n",
       "      <td>0.0</td>\n",
       "      <td>3.19</td>\n",
       "      <td>0.79</td>\n",
       "      <td>4.95</td>\n",
       "      <td>0.00</td>\n",
       "      <td>39</td>\n",
       "      <td>20</td>\n",
       "      <td>224</td>\n",
       "      <td>1080</td>\n",
       "      <td>1932</td>\n",
       "    </tr>\n",
       "    <tr>\n",
       "      <th>4</th>\n",
       "      <td>1503960366</td>\n",
       "      <td>3/29/2016</td>\n",
       "      <td>12041</td>\n",
       "      <td>7.850000</td>\n",
       "      <td>7.850000</td>\n",
       "      <td>0.0</td>\n",
       "      <td>2.16</td>\n",
       "      <td>1.09</td>\n",
       "      <td>4.61</td>\n",
       "      <td>0.00</td>\n",
       "      <td>28</td>\n",
       "      <td>28</td>\n",
       "      <td>243</td>\n",
       "      <td>763</td>\n",
       "      <td>1886</td>\n",
       "    </tr>\n",
       "    <tr>\n",
       "      <th>...</th>\n",
       "      <td>...</td>\n",
       "      <td>...</td>\n",
       "      <td>...</td>\n",
       "      <td>...</td>\n",
       "      <td>...</td>\n",
       "      <td>...</td>\n",
       "      <td>...</td>\n",
       "      <td>...</td>\n",
       "      <td>...</td>\n",
       "      <td>...</td>\n",
       "      <td>...</td>\n",
       "      <td>...</td>\n",
       "      <td>...</td>\n",
       "      <td>...</td>\n",
       "      <td>...</td>\n",
       "    </tr>\n",
       "    <tr>\n",
       "      <th>452</th>\n",
       "      <td>8877689391</td>\n",
       "      <td>8/4/2016</td>\n",
       "      <td>23014</td>\n",
       "      <td>20.389999</td>\n",
       "      <td>20.389999</td>\n",
       "      <td>0.0</td>\n",
       "      <td>11.10</td>\n",
       "      <td>0.63</td>\n",
       "      <td>8.62</td>\n",
       "      <td>0.00</td>\n",
       "      <td>70</td>\n",
       "      <td>29</td>\n",
       "      <td>359</td>\n",
       "      <td>982</td>\n",
       "      <td>4196</td>\n",
       "    </tr>\n",
       "    <tr>\n",
       "      <th>453</th>\n",
       "      <td>8877689391</td>\n",
       "      <td>9/4/2016</td>\n",
       "      <td>16470</td>\n",
       "      <td>8.070000</td>\n",
       "      <td>8.070000</td>\n",
       "      <td>0.0</td>\n",
       "      <td>0.00</td>\n",
       "      <td>0.02</td>\n",
       "      <td>8.02</td>\n",
       "      <td>0.00</td>\n",
       "      <td>90</td>\n",
       "      <td>9</td>\n",
       "      <td>289</td>\n",
       "      <td>1052</td>\n",
       "      <td>3841</td>\n",
       "    </tr>\n",
       "    <tr>\n",
       "      <th>454</th>\n",
       "      <td>8877689391</td>\n",
       "      <td>10/4/2016</td>\n",
       "      <td>28497</td>\n",
       "      <td>27.530001</td>\n",
       "      <td>27.530001</td>\n",
       "      <td>0.0</td>\n",
       "      <td>21.92</td>\n",
       "      <td>1.12</td>\n",
       "      <td>4.46</td>\n",
       "      <td>0.00</td>\n",
       "      <td>128</td>\n",
       "      <td>46</td>\n",
       "      <td>211</td>\n",
       "      <td>1055</td>\n",
       "      <td>4526</td>\n",
       "    </tr>\n",
       "    <tr>\n",
       "      <th>455</th>\n",
       "      <td>8877689391</td>\n",
       "      <td>11/4/2016</td>\n",
       "      <td>10622</td>\n",
       "      <td>8.060000</td>\n",
       "      <td>8.060000</td>\n",
       "      <td>0.0</td>\n",
       "      <td>1.47</td>\n",
       "      <td>0.15</td>\n",
       "      <td>6.37</td>\n",
       "      <td>0.01</td>\n",
       "      <td>18</td>\n",
       "      <td>7</td>\n",
       "      <td>225</td>\n",
       "      <td>1190</td>\n",
       "      <td>2820</td>\n",
       "    </tr>\n",
       "    <tr>\n",
       "      <th>456</th>\n",
       "      <td>8877689391</td>\n",
       "      <td>12/4/2016</td>\n",
       "      <td>2350</td>\n",
       "      <td>1.780000</td>\n",
       "      <td>1.780000</td>\n",
       "      <td>0.0</td>\n",
       "      <td>0.00</td>\n",
       "      <td>0.00</td>\n",
       "      <td>1.78</td>\n",
       "      <td>0.00</td>\n",
       "      <td>0</td>\n",
       "      <td>0</td>\n",
       "      <td>58</td>\n",
       "      <td>531</td>\n",
       "      <td>938</td>\n",
       "    </tr>\n",
       "  </tbody>\n",
       "</table>\n",
       "<p>457 rows × 15 columns</p>\n",
       "</div>"
      ],
      "text/plain": [
       "             Id ActivityDate  TotalSteps  TotalDistance  TrackerDistance  \\\n",
       "0    1503960366    3/25/2016       11004       7.110000         7.110000   \n",
       "1    1503960366    3/26/2016       17609      11.550000        11.550000   \n",
       "2    1503960366    3/27/2016       12736       8.530000         8.530000   \n",
       "3    1503960366    3/28/2016       13231       8.930000         8.930000   \n",
       "4    1503960366    3/29/2016       12041       7.850000         7.850000   \n",
       "..          ...          ...         ...            ...              ...   \n",
       "452  8877689391     8/4/2016       23014      20.389999        20.389999   \n",
       "453  8877689391     9/4/2016       16470       8.070000         8.070000   \n",
       "454  8877689391    10/4/2016       28497      27.530001        27.530001   \n",
       "455  8877689391    11/4/2016       10622       8.060000         8.060000   \n",
       "456  8877689391    12/4/2016        2350       1.780000         1.780000   \n",
       "\n",
       "     LoggedActivitiesDistance  VeryActiveDistance  ModeratelyActiveDistance  \\\n",
       "0                         0.0                2.57                      0.46   \n",
       "1                         0.0                6.92                      0.73   \n",
       "2                         0.0                4.66                      0.16   \n",
       "3                         0.0                3.19                      0.79   \n",
       "4                         0.0                2.16                      1.09   \n",
       "..                        ...                 ...                       ...   \n",
       "452                       0.0               11.10                      0.63   \n",
       "453                       0.0                0.00                      0.02   \n",
       "454                       0.0               21.92                      1.12   \n",
       "455                       0.0                1.47                      0.15   \n",
       "456                       0.0                0.00                      0.00   \n",
       "\n",
       "     LightActiveDistance  SedentaryActiveDistance  VeryActiveMinutes  \\\n",
       "0                   4.07                     0.00                 33   \n",
       "1                   3.91                     0.00                 89   \n",
       "2                   3.71                     0.00                 56   \n",
       "3                   4.95                     0.00                 39   \n",
       "4                   4.61                     0.00                 28   \n",
       "..                   ...                      ...                ...   \n",
       "452                 8.62                     0.00                 70   \n",
       "453                 8.02                     0.00                 90   \n",
       "454                 4.46                     0.00                128   \n",
       "455                 6.37                     0.01                 18   \n",
       "456                 1.78                     0.00                  0   \n",
       "\n",
       "     FairlyActiveMinutes  LightlyActiveMinutes  SedentaryMinutes  Calories  \n",
       "0                     12                   205               804      1819  \n",
       "1                     17                   274               588      2154  \n",
       "2                      5                   268               605      1944  \n",
       "3                     20                   224              1080      1932  \n",
       "4                     28                   243               763      1886  \n",
       "..                   ...                   ...               ...       ...  \n",
       "452                   29                   359               982      4196  \n",
       "453                    9                   289              1052      3841  \n",
       "454                   46                   211              1055      4526  \n",
       "455                    7                   225              1190      2820  \n",
       "456                    0                    58               531       938  \n",
       "\n",
       "[457 rows x 15 columns]"
      ]
     },
     "execution_count": 54,
     "metadata": {},
     "output_type": "execute_result"
    }
   ],
   "source": [
    "df"
   ]
  },
  {
   "cell_type": "code",
   "execution_count": 55,
   "id": "3c534f2a",
   "metadata": {},
   "outputs": [
    {
     "data": {
      "text/html": [
       "<div>\n",
       "<style scoped>\n",
       "    .dataframe tbody tr th:only-of-type {\n",
       "        vertical-align: middle;\n",
       "    }\n",
       "\n",
       "    .dataframe tbody tr th {\n",
       "        vertical-align: top;\n",
       "    }\n",
       "\n",
       "    .dataframe thead th {\n",
       "        text-align: right;\n",
       "    }\n",
       "</style>\n",
       "<table border=\"1\" class=\"dataframe\">\n",
       "  <thead>\n",
       "    <tr style=\"text-align: right;\">\n",
       "      <th></th>\n",
       "      <th>Id</th>\n",
       "      <th>ActivityDate</th>\n",
       "      <th>TotalSteps</th>\n",
       "      <th>TotalDistance</th>\n",
       "      <th>TrackerDistance</th>\n",
       "      <th>LoggedActivitiesDistance</th>\n",
       "      <th>VeryActiveDistance</th>\n",
       "      <th>ModeratelyActiveDistance</th>\n",
       "      <th>LightActiveDistance</th>\n",
       "      <th>SedentaryActiveDistance</th>\n",
       "      <th>VeryActiveMinutes</th>\n",
       "      <th>FairlyActiveMinutes</th>\n",
       "      <th>LightlyActiveMinutes</th>\n",
       "      <th>SedentaryMinutes</th>\n",
       "      <th>Calories</th>\n",
       "    </tr>\n",
       "  </thead>\n",
       "  <tbody>\n",
       "    <tr>\n",
       "      <th>0</th>\n",
       "      <td>1503960366</td>\n",
       "      <td>3/25/2016</td>\n",
       "      <td>11004</td>\n",
       "      <td>7.11</td>\n",
       "      <td>7.11</td>\n",
       "      <td>0.0</td>\n",
       "      <td>2.57</td>\n",
       "      <td>0.46</td>\n",
       "      <td>4.07</td>\n",
       "      <td>0.0</td>\n",
       "      <td>33</td>\n",
       "      <td>12</td>\n",
       "      <td>205</td>\n",
       "      <td>804</td>\n",
       "      <td>1819</td>\n",
       "    </tr>\n",
       "    <tr>\n",
       "      <th>1</th>\n",
       "      <td>1503960366</td>\n",
       "      <td>3/26/2016</td>\n",
       "      <td>17609</td>\n",
       "      <td>11.55</td>\n",
       "      <td>11.55</td>\n",
       "      <td>0.0</td>\n",
       "      <td>6.92</td>\n",
       "      <td>0.73</td>\n",
       "      <td>3.91</td>\n",
       "      <td>0.0</td>\n",
       "      <td>89</td>\n",
       "      <td>17</td>\n",
       "      <td>274</td>\n",
       "      <td>588</td>\n",
       "      <td>2154</td>\n",
       "    </tr>\n",
       "  </tbody>\n",
       "</table>\n",
       "</div>"
      ],
      "text/plain": [
       "           Id ActivityDate  TotalSteps  TotalDistance  TrackerDistance  \\\n",
       "0  1503960366    3/25/2016       11004           7.11             7.11   \n",
       "1  1503960366    3/26/2016       17609          11.55            11.55   \n",
       "\n",
       "   LoggedActivitiesDistance  VeryActiveDistance  ModeratelyActiveDistance  \\\n",
       "0                       0.0                2.57                      0.46   \n",
       "1                       0.0                6.92                      0.73   \n",
       "\n",
       "   LightActiveDistance  SedentaryActiveDistance  VeryActiveMinutes  \\\n",
       "0                 4.07                      0.0                 33   \n",
       "1                 3.91                      0.0                 89   \n",
       "\n",
       "   FairlyActiveMinutes  LightlyActiveMinutes  SedentaryMinutes  Calories  \n",
       "0                   12                   205               804      1819  \n",
       "1                   17                   274               588      2154  "
      ]
     },
     "execution_count": 55,
     "metadata": {},
     "output_type": "execute_result"
    }
   ],
   "source": [
    "df.loc[0:1]"
   ]
  },
  {
   "cell_type": "code",
   "execution_count": 57,
   "id": "bb586ed2",
   "metadata": {},
   "outputs": [
    {
     "data": {
      "text/plain": [
       "Id                            int64\n",
       "ActivityDate                 object\n",
       "TotalSteps                    int64\n",
       "TotalDistance               float64\n",
       "TrackerDistance             float64\n",
       "LoggedActivitiesDistance    float64\n",
       "VeryActiveDistance          float64\n",
       "ModeratelyActiveDistance    float64\n",
       "LightActiveDistance         float64\n",
       "SedentaryActiveDistance     float64\n",
       "VeryActiveMinutes             int64\n",
       "FairlyActiveMinutes           int64\n",
       "LightlyActiveMinutes          int64\n",
       "SedentaryMinutes              int64\n",
       "Calories                      int64\n",
       "dtype: object"
      ]
     },
     "execution_count": 57,
     "metadata": {},
     "output_type": "execute_result"
    }
   ],
   "source": [
    "df.dtypes"
   ]
  },
  {
   "cell_type": "code",
   "execution_count": 59,
   "id": "690705ac",
   "metadata": {},
   "outputs": [
    {
     "data": {
      "text/plain": [
       "Id                          0\n",
       "ActivityDate                0\n",
       "TotalSteps                  0\n",
       "TotalDistance               0\n",
       "TrackerDistance             0\n",
       "LoggedActivitiesDistance    0\n",
       "VeryActiveDistance          0\n",
       "ModeratelyActiveDistance    0\n",
       "LightActiveDistance         0\n",
       "SedentaryActiveDistance     0\n",
       "VeryActiveMinutes           0\n",
       "FairlyActiveMinutes         0\n",
       "LightlyActiveMinutes        0\n",
       "SedentaryMinutes            0\n",
       "Calories                    0\n",
       "dtype: int64"
      ]
     },
     "execution_count": 59,
     "metadata": {},
     "output_type": "execute_result"
    }
   ],
   "source": [
    "df.isnull().sum()"
   ]
  },
  {
   "cell_type": "code",
   "execution_count": 61,
   "id": "bda03bcf",
   "metadata": {},
   "outputs": [
    {
     "data": {
      "text/html": [
       "<div>\n",
       "<style scoped>\n",
       "    .dataframe tbody tr th:only-of-type {\n",
       "        vertical-align: middle;\n",
       "    }\n",
       "\n",
       "    .dataframe tbody tr th {\n",
       "        vertical-align: top;\n",
       "    }\n",
       "\n",
       "    .dataframe thead th {\n",
       "        text-align: right;\n",
       "    }\n",
       "</style>\n",
       "<table border=\"1\" class=\"dataframe\">\n",
       "  <thead>\n",
       "    <tr style=\"text-align: right;\">\n",
       "      <th></th>\n",
       "      <th>Id</th>\n",
       "      <th>ActivityDate</th>\n",
       "      <th>TotalSteps</th>\n",
       "      <th>TotalDistance</th>\n",
       "      <th>TrackerDistance</th>\n",
       "      <th>LoggedActivitiesDistance</th>\n",
       "      <th>VeryActiveDistance</th>\n",
       "      <th>ModeratelyActiveDistance</th>\n",
       "      <th>LightActiveDistance</th>\n",
       "      <th>SedentaryActiveDistance</th>\n",
       "      <th>VeryActiveMinutes</th>\n",
       "      <th>FairlyActiveMinutes</th>\n",
       "      <th>LightlyActiveMinutes</th>\n",
       "      <th>SedentaryMinutes</th>\n",
       "      <th>Calories</th>\n",
       "    </tr>\n",
       "  </thead>\n",
       "  <tbody>\n",
       "    <tr>\n",
       "      <th>0</th>\n",
       "      <td>1503960366</td>\n",
       "      <td>3/25/2016</td>\n",
       "      <td>11004</td>\n",
       "      <td>7.11</td>\n",
       "      <td>7.11</td>\n",
       "      <td>0.0</td>\n",
       "      <td>2.57</td>\n",
       "      <td>0.46</td>\n",
       "      <td>4.07</td>\n",
       "      <td>0.0</td>\n",
       "      <td>33</td>\n",
       "      <td>12</td>\n",
       "      <td>205</td>\n",
       "      <td>804</td>\n",
       "      <td>1819</td>\n",
       "    </tr>\n",
       "    <tr>\n",
       "      <th>1</th>\n",
       "      <td>1503960366</td>\n",
       "      <td>3/26/2016</td>\n",
       "      <td>17609</td>\n",
       "      <td>11.55</td>\n",
       "      <td>11.55</td>\n",
       "      <td>0.0</td>\n",
       "      <td>6.92</td>\n",
       "      <td>0.73</td>\n",
       "      <td>3.91</td>\n",
       "      <td>0.0</td>\n",
       "      <td>89</td>\n",
       "      <td>17</td>\n",
       "      <td>274</td>\n",
       "      <td>588</td>\n",
       "      <td>2154</td>\n",
       "    </tr>\n",
       "    <tr>\n",
       "      <th>2</th>\n",
       "      <td>1503960366</td>\n",
       "      <td>3/27/2016</td>\n",
       "      <td>12736</td>\n",
       "      <td>8.53</td>\n",
       "      <td>8.53</td>\n",
       "      <td>0.0</td>\n",
       "      <td>4.66</td>\n",
       "      <td>0.16</td>\n",
       "      <td>3.71</td>\n",
       "      <td>0.0</td>\n",
       "      <td>56</td>\n",
       "      <td>5</td>\n",
       "      <td>268</td>\n",
       "      <td>605</td>\n",
       "      <td>1944</td>\n",
       "    </tr>\n",
       "    <tr>\n",
       "      <th>3</th>\n",
       "      <td>1503960366</td>\n",
       "      <td>3/28/2016</td>\n",
       "      <td>13231</td>\n",
       "      <td>8.93</td>\n",
       "      <td>8.93</td>\n",
       "      <td>0.0</td>\n",
       "      <td>3.19</td>\n",
       "      <td>0.79</td>\n",
       "      <td>4.95</td>\n",
       "      <td>0.0</td>\n",
       "      <td>39</td>\n",
       "      <td>20</td>\n",
       "      <td>224</td>\n",
       "      <td>1080</td>\n",
       "      <td>1932</td>\n",
       "    </tr>\n",
       "    <tr>\n",
       "      <th>4</th>\n",
       "      <td>1503960366</td>\n",
       "      <td>3/29/2016</td>\n",
       "      <td>12041</td>\n",
       "      <td>7.85</td>\n",
       "      <td>7.85</td>\n",
       "      <td>0.0</td>\n",
       "      <td>2.16</td>\n",
       "      <td>1.09</td>\n",
       "      <td>4.61</td>\n",
       "      <td>0.0</td>\n",
       "      <td>28</td>\n",
       "      <td>28</td>\n",
       "      <td>243</td>\n",
       "      <td>763</td>\n",
       "      <td>1886</td>\n",
       "    </tr>\n",
       "    <tr>\n",
       "      <th>5</th>\n",
       "      <td>1503960366</td>\n",
       "      <td>3/30/2016</td>\n",
       "      <td>10970</td>\n",
       "      <td>7.16</td>\n",
       "      <td>7.16</td>\n",
       "      <td>0.0</td>\n",
       "      <td>2.36</td>\n",
       "      <td>0.51</td>\n",
       "      <td>4.29</td>\n",
       "      <td>0.0</td>\n",
       "      <td>30</td>\n",
       "      <td>13</td>\n",
       "      <td>223</td>\n",
       "      <td>1174</td>\n",
       "      <td>1820</td>\n",
       "    </tr>\n",
       "    <tr>\n",
       "      <th>6</th>\n",
       "      <td>1503960366</td>\n",
       "      <td>3/31/2016</td>\n",
       "      <td>12256</td>\n",
       "      <td>7.86</td>\n",
       "      <td>7.86</td>\n",
       "      <td>0.0</td>\n",
       "      <td>2.29</td>\n",
       "      <td>0.49</td>\n",
       "      <td>5.04</td>\n",
       "      <td>0.0</td>\n",
       "      <td>33</td>\n",
       "      <td>12</td>\n",
       "      <td>239</td>\n",
       "      <td>820</td>\n",
       "      <td>1889</td>\n",
       "    </tr>\n",
       "    <tr>\n",
       "      <th>7</th>\n",
       "      <td>1503960366</td>\n",
       "      <td>1/4/2016</td>\n",
       "      <td>12262</td>\n",
       "      <td>7.87</td>\n",
       "      <td>7.87</td>\n",
       "      <td>0.0</td>\n",
       "      <td>3.32</td>\n",
       "      <td>0.83</td>\n",
       "      <td>3.64</td>\n",
       "      <td>0.0</td>\n",
       "      <td>47</td>\n",
       "      <td>21</td>\n",
       "      <td>200</td>\n",
       "      <td>866</td>\n",
       "      <td>1868</td>\n",
       "    </tr>\n",
       "    <tr>\n",
       "      <th>8</th>\n",
       "      <td>1503960366</td>\n",
       "      <td>2/4/2016</td>\n",
       "      <td>11248</td>\n",
       "      <td>7.25</td>\n",
       "      <td>7.25</td>\n",
       "      <td>0.0</td>\n",
       "      <td>3.00</td>\n",
       "      <td>0.45</td>\n",
       "      <td>3.74</td>\n",
       "      <td>0.0</td>\n",
       "      <td>40</td>\n",
       "      <td>11</td>\n",
       "      <td>244</td>\n",
       "      <td>636</td>\n",
       "      <td>1843</td>\n",
       "    </tr>\n",
       "    <tr>\n",
       "      <th>9</th>\n",
       "      <td>1503960366</td>\n",
       "      <td>3/4/2016</td>\n",
       "      <td>10016</td>\n",
       "      <td>6.37</td>\n",
       "      <td>6.37</td>\n",
       "      <td>0.0</td>\n",
       "      <td>0.91</td>\n",
       "      <td>1.28</td>\n",
       "      <td>4.18</td>\n",
       "      <td>0.0</td>\n",
       "      <td>15</td>\n",
       "      <td>30</td>\n",
       "      <td>314</td>\n",
       "      <td>655</td>\n",
       "      <td>1850</td>\n",
       "    </tr>\n",
       "  </tbody>\n",
       "</table>\n",
       "</div>"
      ],
      "text/plain": [
       "           Id ActivityDate  TotalSteps  TotalDistance  TrackerDistance  \\\n",
       "0  1503960366    3/25/2016       11004           7.11             7.11   \n",
       "1  1503960366    3/26/2016       17609          11.55            11.55   \n",
       "2  1503960366    3/27/2016       12736           8.53             8.53   \n",
       "3  1503960366    3/28/2016       13231           8.93             8.93   \n",
       "4  1503960366    3/29/2016       12041           7.85             7.85   \n",
       "5  1503960366    3/30/2016       10970           7.16             7.16   \n",
       "6  1503960366    3/31/2016       12256           7.86             7.86   \n",
       "7  1503960366     1/4/2016       12262           7.87             7.87   \n",
       "8  1503960366     2/4/2016       11248           7.25             7.25   \n",
       "9  1503960366     3/4/2016       10016           6.37             6.37   \n",
       "\n",
       "   LoggedActivitiesDistance  VeryActiveDistance  ModeratelyActiveDistance  \\\n",
       "0                       0.0                2.57                      0.46   \n",
       "1                       0.0                6.92                      0.73   \n",
       "2                       0.0                4.66                      0.16   \n",
       "3                       0.0                3.19                      0.79   \n",
       "4                       0.0                2.16                      1.09   \n",
       "5                       0.0                2.36                      0.51   \n",
       "6                       0.0                2.29                      0.49   \n",
       "7                       0.0                3.32                      0.83   \n",
       "8                       0.0                3.00                      0.45   \n",
       "9                       0.0                0.91                      1.28   \n",
       "\n",
       "   LightActiveDistance  SedentaryActiveDistance  VeryActiveMinutes  \\\n",
       "0                 4.07                      0.0                 33   \n",
       "1                 3.91                      0.0                 89   \n",
       "2                 3.71                      0.0                 56   \n",
       "3                 4.95                      0.0                 39   \n",
       "4                 4.61                      0.0                 28   \n",
       "5                 4.29                      0.0                 30   \n",
       "6                 5.04                      0.0                 33   \n",
       "7                 3.64                      0.0                 47   \n",
       "8                 3.74                      0.0                 40   \n",
       "9                 4.18                      0.0                 15   \n",
       "\n",
       "   FairlyActiveMinutes  LightlyActiveMinutes  SedentaryMinutes  Calories  \n",
       "0                   12                   205               804      1819  \n",
       "1                   17                   274               588      2154  \n",
       "2                    5                   268               605      1944  \n",
       "3                   20                   224              1080      1932  \n",
       "4                   28                   243               763      1886  \n",
       "5                   13                   223              1174      1820  \n",
       "6                   12                   239               820      1889  \n",
       "7                   21                   200               866      1868  \n",
       "8                   11                   244               636      1843  \n",
       "9                   30                   314               655      1850  "
      ]
     },
     "execution_count": 61,
     "metadata": {},
     "output_type": "execute_result"
    }
   ],
   "source": [
    "df.head(10)"
   ]
  },
  {
   "cell_type": "code",
   "execution_count": 62,
   "id": "8573491a",
   "metadata": {},
   "outputs": [
    {
     "data": {
      "text/html": [
       "<div>\n",
       "<style scoped>\n",
       "    .dataframe tbody tr th:only-of-type {\n",
       "        vertical-align: middle;\n",
       "    }\n",
       "\n",
       "    .dataframe tbody tr th {\n",
       "        vertical-align: top;\n",
       "    }\n",
       "\n",
       "    .dataframe thead th {\n",
       "        text-align: right;\n",
       "    }\n",
       "</style>\n",
       "<table border=\"1\" class=\"dataframe\">\n",
       "  <thead>\n",
       "    <tr style=\"text-align: right;\">\n",
       "      <th></th>\n",
       "      <th>Id</th>\n",
       "      <th>ActivityDate</th>\n",
       "      <th>TotalSteps</th>\n",
       "      <th>TotalDistance</th>\n",
       "      <th>TrackerDistance</th>\n",
       "      <th>LoggedActivitiesDistance</th>\n",
       "      <th>VeryActiveDistance</th>\n",
       "      <th>ModeratelyActiveDistance</th>\n",
       "      <th>LightActiveDistance</th>\n",
       "      <th>SedentaryActiveDistance</th>\n",
       "      <th>VeryActiveMinutes</th>\n",
       "      <th>FairlyActiveMinutes</th>\n",
       "      <th>LightlyActiveMinutes</th>\n",
       "      <th>SedentaryMinutes</th>\n",
       "      <th>Calories</th>\n",
       "    </tr>\n",
       "  </thead>\n",
       "  <tbody>\n",
       "    <tr>\n",
       "      <th>452</th>\n",
       "      <td>8877689391</td>\n",
       "      <td>8/4/2016</td>\n",
       "      <td>23014</td>\n",
       "      <td>20.389999</td>\n",
       "      <td>20.389999</td>\n",
       "      <td>0.0</td>\n",
       "      <td>11.10</td>\n",
       "      <td>0.63</td>\n",
       "      <td>8.62</td>\n",
       "      <td>0.00</td>\n",
       "      <td>70</td>\n",
       "      <td>29</td>\n",
       "      <td>359</td>\n",
       "      <td>982</td>\n",
       "      <td>4196</td>\n",
       "    </tr>\n",
       "    <tr>\n",
       "      <th>453</th>\n",
       "      <td>8877689391</td>\n",
       "      <td>9/4/2016</td>\n",
       "      <td>16470</td>\n",
       "      <td>8.070000</td>\n",
       "      <td>8.070000</td>\n",
       "      <td>0.0</td>\n",
       "      <td>0.00</td>\n",
       "      <td>0.02</td>\n",
       "      <td>8.02</td>\n",
       "      <td>0.00</td>\n",
       "      <td>90</td>\n",
       "      <td>9</td>\n",
       "      <td>289</td>\n",
       "      <td>1052</td>\n",
       "      <td>3841</td>\n",
       "    </tr>\n",
       "    <tr>\n",
       "      <th>454</th>\n",
       "      <td>8877689391</td>\n",
       "      <td>10/4/2016</td>\n",
       "      <td>28497</td>\n",
       "      <td>27.530001</td>\n",
       "      <td>27.530001</td>\n",
       "      <td>0.0</td>\n",
       "      <td>21.92</td>\n",
       "      <td>1.12</td>\n",
       "      <td>4.46</td>\n",
       "      <td>0.00</td>\n",
       "      <td>128</td>\n",
       "      <td>46</td>\n",
       "      <td>211</td>\n",
       "      <td>1055</td>\n",
       "      <td>4526</td>\n",
       "    </tr>\n",
       "    <tr>\n",
       "      <th>455</th>\n",
       "      <td>8877689391</td>\n",
       "      <td>11/4/2016</td>\n",
       "      <td>10622</td>\n",
       "      <td>8.060000</td>\n",
       "      <td>8.060000</td>\n",
       "      <td>0.0</td>\n",
       "      <td>1.47</td>\n",
       "      <td>0.15</td>\n",
       "      <td>6.37</td>\n",
       "      <td>0.01</td>\n",
       "      <td>18</td>\n",
       "      <td>7</td>\n",
       "      <td>225</td>\n",
       "      <td>1190</td>\n",
       "      <td>2820</td>\n",
       "    </tr>\n",
       "    <tr>\n",
       "      <th>456</th>\n",
       "      <td>8877689391</td>\n",
       "      <td>12/4/2016</td>\n",
       "      <td>2350</td>\n",
       "      <td>1.780000</td>\n",
       "      <td>1.780000</td>\n",
       "      <td>0.0</td>\n",
       "      <td>0.00</td>\n",
       "      <td>0.00</td>\n",
       "      <td>1.78</td>\n",
       "      <td>0.00</td>\n",
       "      <td>0</td>\n",
       "      <td>0</td>\n",
       "      <td>58</td>\n",
       "      <td>531</td>\n",
       "      <td>938</td>\n",
       "    </tr>\n",
       "  </tbody>\n",
       "</table>\n",
       "</div>"
      ],
      "text/plain": [
       "             Id ActivityDate  TotalSteps  TotalDistance  TrackerDistance  \\\n",
       "452  8877689391     8/4/2016       23014      20.389999        20.389999   \n",
       "453  8877689391     9/4/2016       16470       8.070000         8.070000   \n",
       "454  8877689391    10/4/2016       28497      27.530001        27.530001   \n",
       "455  8877689391    11/4/2016       10622       8.060000         8.060000   \n",
       "456  8877689391    12/4/2016        2350       1.780000         1.780000   \n",
       "\n",
       "     LoggedActivitiesDistance  VeryActiveDistance  ModeratelyActiveDistance  \\\n",
       "452                       0.0               11.10                      0.63   \n",
       "453                       0.0                0.00                      0.02   \n",
       "454                       0.0               21.92                      1.12   \n",
       "455                       0.0                1.47                      0.15   \n",
       "456                       0.0                0.00                      0.00   \n",
       "\n",
       "     LightActiveDistance  SedentaryActiveDistance  VeryActiveMinutes  \\\n",
       "452                 8.62                     0.00                 70   \n",
       "453                 8.02                     0.00                 90   \n",
       "454                 4.46                     0.00                128   \n",
       "455                 6.37                     0.01                 18   \n",
       "456                 1.78                     0.00                  0   \n",
       "\n",
       "     FairlyActiveMinutes  LightlyActiveMinutes  SedentaryMinutes  Calories  \n",
       "452                   29                   359               982      4196  \n",
       "453                    9                   289              1052      3841  \n",
       "454                   46                   211              1055      4526  \n",
       "455                    7                   225              1190      2820  \n",
       "456                    0                    58               531       938  "
      ]
     },
     "execution_count": 62,
     "metadata": {},
     "output_type": "execute_result"
    }
   ],
   "source": [
    "df.tail()"
   ]
  },
  {
   "cell_type": "code",
   "execution_count": 66,
   "id": "5368affe",
   "metadata": {},
   "outputs": [
    {
     "data": {
      "text/plain": [
       "0"
      ]
     },
     "execution_count": 66,
     "metadata": {},
     "output_type": "execute_result"
    }
   ],
   "source": [
    "df.duplicated().sum()"
   ]
  },
  {
   "cell_type": "code",
   "execution_count": null,
   "id": "02d5d138",
   "metadata": {},
   "outputs": [],
   "source": []
  }
 ],
 "metadata": {
  "kernelspec": {
   "display_name": "Python 3 (ipykernel)",
   "language": "python",
   "name": "python3"
  },
  "language_info": {
   "codemirror_mode": {
    "name": "ipython",
    "version": 3
   },
   "file_extension": ".py",
   "mimetype": "text/x-python",
   "name": "python",
   "nbconvert_exporter": "python",
   "pygments_lexer": "ipython3",
   "version": "3.11.3"
  }
 },
 "nbformat": 4,
 "nbformat_minor": 5
}
