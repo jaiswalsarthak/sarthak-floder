{
 "cells": [
  {
   "cell_type": "markdown",
   "id": "0a0b1f8d",
   "metadata": {},
   "source": [
    "# Numpy "
   ]
  },
  {
   "cell_type": "markdown",
   "id": "c80d0d8c",
   "metadata": {},
   "source": [
    "- Array from numpy"
   ]
  },
  {
   "cell_type": "markdown",
   "id": "0b129b6f",
   "metadata": {},
   "source": [
    "# Array"
   ]
  },
  {
   "cell_type": "markdown",
   "id": "173676e9",
   "metadata": {},
   "source": [
    "- An array is a collection of homogenous data-types.\n",
    "- 4 byte\n",
    "- Array can store data very compactly and more effcient for storing large amount of data.\n",
    "- Array are great for numerical operations, list cannot directly handle math operations\n",
    "- As the array size increases, numpy array get around 30 times faster than python list.\n",
    "- Because the numpy array is denely packed in memory due to homogeous type, also frees the memory faster.\n",
    "- you have to explicity import nupy to use array"
   ]
  },
  {
   "cell_type": "code",
   "execution_count": null,
   "id": "399e178c",
   "metadata": {},
   "outputs": [],
   "source": []
  },
  {
   "cell_type": "markdown",
   "id": "1c584094",
   "metadata": {},
   "source": [
    "# List"
   ]
  },
  {
   "cell_type": "markdown",
   "id": "bc94a1e2",
   "metadata": {},
   "source": [
    "- wheras list is a collection of hetrogeneous data-types \n",
    "- 14 byte\n",
    "- List less effcient than array for storing large amount of data.\n",
    "- its is python data type\n"
   ]
  },
  {
   "cell_type": "code",
   "execution_count": null,
   "id": "17d23007",
   "metadata": {},
   "outputs": [],
   "source": []
  },
  {
   "cell_type": "code",
   "execution_count": 1,
   "id": "0d5a1728",
   "metadata": {},
   "outputs": [],
   "source": [
    "import numpy as np"
   ]
  },
  {
   "cell_type": "code",
   "execution_count": 8,
   "id": "8e1dc8bb",
   "metadata": {},
   "outputs": [
    {
     "name": "stdout",
     "output_type": "stream",
     "text": [
      "['ram', 123, 50.5, (7+2j)]\n"
     ]
    },
    {
     "data": {
      "text/plain": [
       "list"
      ]
     },
     "execution_count": 8,
     "metadata": {},
     "output_type": "execute_result"
    }
   ],
   "source": [
    "my_list=[\"ram\",123,50.5,7+2j]\n",
    "print(my_list)\n",
    "type(my_list)\n",
    "# wheras list is a collection of hetrogeneous data-types "
   ]
  },
  {
   "cell_type": "code",
   "execution_count": 9,
   "id": "035ee1e5",
   "metadata": {},
   "outputs": [
    {
     "name": "stdout",
     "output_type": "stream",
     "text": [
      "['ram' '123' '50.5' '(7+2j)']\n"
     ]
    },
    {
     "data": {
      "text/plain": [
       "numpy.ndarray"
      ]
     },
     "execution_count": 9,
     "metadata": {},
     "output_type": "execute_result"
    }
   ],
   "source": [
    "my_array=np.array([\"ram\",123,50.5,7+2j])\n",
    "print(my_array)\n",
    "type(my_array)\n",
    "# An array is a collection of homogenous data-types."
   ]
  },
  {
   "cell_type": "code",
   "execution_count": 4,
   "id": "5aa254c6",
   "metadata": {},
   "outputs": [
    {
     "name": "stdout",
     "output_type": "stream",
     "text": [
      "[123. +0.j  50.5+0.j   7. +2.j]\n"
     ]
    },
    {
     "data": {
      "text/plain": [
       "numpy.ndarray"
      ]
     },
     "execution_count": 4,
     "metadata": {},
     "output_type": "execute_result"
    }
   ],
   "source": [
    "my_array=np.array([123,50.5,7+2j])\n",
    "print(my_array)\n",
    "type(my_array)"
   ]
  },
  {
   "cell_type": "code",
   "execution_count": 5,
   "id": "4eab83d8",
   "metadata": {},
   "outputs": [
    {
     "name": "stdout",
     "output_type": "stream",
     "text": [
      "[123.   50.5]\n"
     ]
    },
    {
     "data": {
      "text/plain": [
       "numpy.ndarray"
      ]
     },
     "execution_count": 5,
     "metadata": {},
     "output_type": "execute_result"
    }
   ],
   "source": [
    "my_array=np.array([123,50.5])\n",
    "print(my_array)\n",
    "type(my_array)"
   ]
  },
  {
   "cell_type": "code",
   "execution_count": null,
   "id": "c9196fd1",
   "metadata": {},
   "outputs": [],
   "source": []
  },
  {
   "cell_type": "markdown",
   "id": "335c5afa",
   "metadata": {},
   "source": [
    "string > Complex > float > int"
   ]
  },
  {
   "cell_type": "code",
   "execution_count": null,
   "id": "16db9d4e",
   "metadata": {},
   "outputs": [],
   "source": []
  },
  {
   "cell_type": "code",
   "execution_count": null,
   "id": "4abc2dac",
   "metadata": {},
   "outputs": [],
   "source": []
  },
  {
   "cell_type": "markdown",
   "id": "ae66b5e5",
   "metadata": {},
   "source": [
    "# Empty Numpy array"
   ]
  },
  {
   "cell_type": "code",
   "execution_count": null,
   "id": "5ae0cc67",
   "metadata": {},
   "outputs": [],
   "source": []
  },
  {
   "cell_type": "code",
   "execution_count": 10,
   "id": "8d29ef4c",
   "metadata": {},
   "outputs": [
    {
     "data": {
      "text/plain": [
       "array([], dtype=float64)"
      ]
     },
     "execution_count": 10,
     "metadata": {},
     "output_type": "execute_result"
    }
   ],
   "source": [
    "a=np.array([])\n",
    "a"
   ]
  },
  {
   "cell_type": "code",
   "execution_count": 11,
   "id": "0e8334be",
   "metadata": {},
   "outputs": [
    {
     "data": {
      "text/plain": [
       "1"
      ]
     },
     "execution_count": 11,
     "metadata": {},
     "output_type": "execute_result"
    }
   ],
   "source": [
    "# to check diminesion\n",
    "a.ndim"
   ]
  },
  {
   "cell_type": "code",
   "execution_count": 15,
   "id": "308068f6",
   "metadata": {},
   "outputs": [
    {
     "name": "stdout",
     "output_type": "stream",
     "text": [
      "[ 1  2 34]\n",
      "the dim is: 1\n"
     ]
    }
   ],
   "source": [
    "a=np.array([1,2,34])\n",
    "print(a)\n",
    "print(\"the dim is:\",a.ndim)\n"
   ]
  },
  {
   "cell_type": "code",
   "execution_count": 16,
   "id": "4c7cb8b9",
   "metadata": {},
   "outputs": [
    {
     "name": "stdout",
     "output_type": "stream",
     "text": [
      "[[ 1  2 34]\n",
      " [ 1  2  3]]\n",
      "the dim is: 2\n"
     ]
    }
   ],
   "source": [
    "a=np.array([[1,2,34],[1,2,3]])\n",
    "print(a)\n",
    "print(\"the dim is:\",a.ndim)\n"
   ]
  },
  {
   "cell_type": "code",
   "execution_count": 17,
   "id": "38185591",
   "metadata": {},
   "outputs": [
    {
     "name": "stdout",
     "output_type": "stream",
     "text": [
      "[[[ 1  2 34]\n",
      "  [ 1  2  3]]]\n",
      "the dim is: 3\n"
     ]
    }
   ],
   "source": [
    "a=np.array([[[1,2,34],[1,2,3]]])\n",
    "print(a)\n",
    "print(\"the dim is:\",a.ndim)\n"
   ]
  },
  {
   "cell_type": "code",
   "execution_count": 18,
   "id": "75ab4f64",
   "metadata": {},
   "outputs": [
    {
     "name": "stdout",
     "output_type": "stream",
     "text": [
      "[[[[ 1  2 34]\n",
      "   [ 1  2  3]\n",
      "   [ 1  2 34]\n",
      "   [ 1  2  3]]]]\n",
      "the dim is: 4\n"
     ]
    }
   ],
   "source": [
    "a=np.array([[[[1,2,34],[1,2,3],[1,2,34],[1,2,3]]]])\n",
    "print(a)\n",
    "print(\"the dim is:\",a.ndim)\n"
   ]
  },
  {
   "cell_type": "code",
   "execution_count": 19,
   "id": "fa2cd9cc",
   "metadata": {},
   "outputs": [
    {
     "name": "stdout",
     "output_type": "stream",
     "text": [
      "[['1' '2' '34']\n",
      " ['1' '2' '3']]\n",
      "the dim is: 2\n"
     ]
    }
   ],
   "source": [
    "a=np.array([[1,2,34],[1,2,3]],dtype=str)\n",
    "print(a)\n",
    "print(\"the dim is:\",a.ndim)"
   ]
  },
  {
   "cell_type": "code",
   "execution_count": 20,
   "id": "ebc683ea",
   "metadata": {},
   "outputs": [
    {
     "name": "stdout",
     "output_type": "stream",
     "text": [
      "[[ 1.  2. 34.]\n",
      " [ 1.  2.  3.]]\n",
      "the dim is: 2\n"
     ]
    }
   ],
   "source": [
    "a=np.array([[1,2,34],[1,2,3]],dtype=float)\n",
    "print(a)\n",
    "print(\"the dim is:\",a.ndim)"
   ]
  },
  {
   "cell_type": "code",
   "execution_count": 21,
   "id": "b7fedc39",
   "metadata": {},
   "outputs": [
    {
     "name": "stdout",
     "output_type": "stream",
     "text": [
      "[[ 1.+0.j  2.+0.j 34.+0.j]\n",
      " [ 1.+0.j  2.+0.j  3.+0.j]]\n",
      "the dim is: 2\n"
     ]
    }
   ],
   "source": [
    "a=np.array([[1,2,34],[1,2,3]],dtype=complex)\n",
    "print(a)\n",
    "print(\"the dim is:\",a.ndim)"
   ]
  },
  {
   "cell_type": "code",
   "execution_count": 23,
   "id": "4044cde4",
   "metadata": {},
   "outputs": [
    {
     "name": "stdout",
     "output_type": "stream",
     "text": [
      "[[ 1  2 34]\n",
      " [ 1  2  3]]\n",
      "the dim is: 2\n"
     ]
    }
   ],
   "source": [
    "a=np.array([[1,2,34],[1,2,3]],dtype=int)\n",
    "print(a)\n",
    "print(\"the dim is:\",a.ndim)"
   ]
  },
  {
   "cell_type": "code",
   "execution_count": null,
   "id": "dff3b0c4",
   "metadata": {},
   "outputs": [],
   "source": []
  },
  {
   "cell_type": "code",
   "execution_count": null,
   "id": "e95d089f",
   "metadata": {},
   "outputs": [],
   "source": []
  },
  {
   "cell_type": "markdown",
   "id": "0a10ebd1",
   "metadata": {},
   "source": [
    "# Attributes"
   ]
  },
  {
   "cell_type": "code",
   "execution_count": 37,
   "id": "4edb2753",
   "metadata": {},
   "outputs": [
    {
     "name": "stdout",
     "output_type": "stream",
     "text": [
      "[[ 5  2 34]\n",
      " [ 1  2  3]]\n",
      "the dim is: 2\n"
     ]
    }
   ],
   "source": [
    "a=np.array([[5,2,34],[1,2,3]])\n",
    "print(a)\n",
    "print(\"the dim is:\",a.ndim)"
   ]
  },
  {
   "cell_type": "code",
   "execution_count": null,
   "id": "f8147eee",
   "metadata": {},
   "outputs": [],
   "source": []
  },
  {
   "cell_type": "code",
   "execution_count": 25,
   "id": "8a088964",
   "metadata": {},
   "outputs": [
    {
     "data": {
      "text/plain": [
       "dtype('int32')"
      ]
     },
     "execution_count": 25,
     "metadata": {},
     "output_type": "execute_result"
    }
   ],
   "source": [
    "a.dtype"
   ]
  },
  {
   "cell_type": "code",
   "execution_count": 38,
   "id": "a20bcb56",
   "metadata": {},
   "outputs": [
    {
     "data": {
      "text/plain": [
       "4"
      ]
     },
     "execution_count": 38,
     "metadata": {},
     "output_type": "execute_result"
    }
   ],
   "source": [
    "a.itemsize\n",
    "\n",
    "# need to check"
   ]
  },
  {
   "cell_type": "code",
   "execution_count": null,
   "id": "6ab2f015",
   "metadata": {},
   "outputs": [],
   "source": []
  },
  {
   "cell_type": "markdown",
   "id": "776cf447",
   "metadata": {},
   "source": [
    "# indexing and slicing"
   ]
  },
  {
   "cell_type": "code",
   "execution_count": 39,
   "id": "8861dbd3",
   "metadata": {},
   "outputs": [],
   "source": [
    "a=np.array([[5,2,34],[1,2,3]])"
   ]
  },
  {
   "cell_type": "code",
   "execution_count": 42,
   "id": "7da7f689",
   "metadata": {},
   "outputs": [
    {
     "data": {
      "text/plain": [
       "5"
      ]
     },
     "execution_count": 42,
     "metadata": {},
     "output_type": "execute_result"
    }
   ],
   "source": [
    "a[0][0]"
   ]
  },
  {
   "cell_type": "code",
   "execution_count": 43,
   "id": "1ac7e5c6",
   "metadata": {},
   "outputs": [
    {
     "data": {
      "text/plain": [
       "1"
      ]
     },
     "execution_count": 43,
     "metadata": {},
     "output_type": "execute_result"
    }
   ],
   "source": [
    "a[1][0]"
   ]
  },
  {
   "cell_type": "code",
   "execution_count": 49,
   "id": "ec4e5336",
   "metadata": {},
   "outputs": [
    {
     "name": "stdout",
     "output_type": "stream",
     "text": [
      "[[[      1       2       3       4       5       6]\n",
      "  [     11      22      33      44      55      66]]\n",
      "\n",
      " [[    111     222     333     444     555     666]\n",
      "  [1111111    2222    3333    4444    5555    6666]]]\n"
     ]
    },
    {
     "data": {
      "text/plain": [
       "3"
      ]
     },
     "execution_count": 49,
     "metadata": {},
     "output_type": "execute_result"
    }
   ],
   "source": [
    "a= np.array([[[1,2,3,4,5,6],[11,22,33,44,55,66]],[[111,222,333,444,555,666],[1111111,2222,3333,4444,5555,6666]]])\n",
    "print(a)\n",
    "a.ndim\n"
   ]
  },
  {
   "cell_type": "code",
   "execution_count": 45,
   "id": "74c37ed5",
   "metadata": {},
   "outputs": [
    {
     "data": {
      "text/plain": [
       "array([[ 1,  2,  3,  4,  5,  6],\n",
       "       [11, 22, 33, 44, 55, 66]])"
      ]
     },
     "execution_count": 45,
     "metadata": {},
     "output_type": "execute_result"
    }
   ],
   "source": [
    "a[0]"
   ]
  },
  {
   "cell_type": "code",
   "execution_count": 46,
   "id": "80dcfcbf",
   "metadata": {},
   "outputs": [
    {
     "data": {
      "text/plain": [
       "array([1, 2, 3, 4, 5, 6])"
      ]
     },
     "execution_count": 46,
     "metadata": {},
     "output_type": "execute_result"
    }
   ],
   "source": [
    "a[0][0]"
   ]
  },
  {
   "cell_type": "code",
   "execution_count": 51,
   "id": "67df7186",
   "metadata": {},
   "outputs": [
    {
     "data": {
      "text/plain": [
       "6666"
      ]
     },
     "execution_count": 51,
     "metadata": {},
     "output_type": "execute_result"
    }
   ],
   "source": [
    "a[1][1][-1]"
   ]
  },
  {
   "cell_type": "code",
   "execution_count": 54,
   "id": "a8bb2e4f",
   "metadata": {},
   "outputs": [
    {
     "data": {
      "text/plain": [
       "array([[[6666]]])"
      ]
     },
     "execution_count": 54,
     "metadata": {},
     "output_type": "execute_result"
    }
   ],
   "source": [
    "a[1:,1:,-1:]"
   ]
  },
  {
   "cell_type": "code",
   "execution_count": 55,
   "id": "d5d25aa2",
   "metadata": {},
   "outputs": [
    {
     "name": "stdout",
     "output_type": "stream",
     "text": [
      "[[[      1       2       3       4       5       6]\n",
      "  [     11      22      33      44      55      66]]\n",
      "\n",
      " [[    111     222     333     444     555     666]\n",
      "  [1111111    2222    3333    4444    5555    6666]]]\n"
     ]
    },
    {
     "data": {
      "text/plain": [
       "3"
      ]
     },
     "execution_count": 55,
     "metadata": {},
     "output_type": "execute_result"
    }
   ],
   "source": [
    "a= np.array([[[1,2,3,4,5,6],[11,22,33,44,55,66]],[[111,222,333,444,555,666],[1111111,2222,3333,4444,5555,6666]]])\n",
    "print(a)\n",
    "a.ndim\n"
   ]
  },
  {
   "cell_type": "code",
   "execution_count": 60,
   "id": "13b21331",
   "metadata": {},
   "outputs": [
    {
     "data": {
      "text/plain": [
       "array([[[2, 3]]])"
      ]
     },
     "execution_count": 60,
     "metadata": {},
     "output_type": "execute_result"
    }
   ],
   "source": [
    "a[0:1,0:1,1:3]"
   ]
  },
  {
   "cell_type": "code",
   "execution_count": null,
   "id": "6203b198",
   "metadata": {},
   "outputs": [],
   "source": []
  },
  {
   "cell_type": "code",
   "execution_count": 61,
   "id": "aad9c26b",
   "metadata": {},
   "outputs": [
    {
     "name": "stdout",
     "output_type": "stream",
     "text": [
      "[[[1 2 3 4 5 6]]]\n"
     ]
    },
    {
     "data": {
      "text/plain": [
       "3"
      ]
     },
     "execution_count": 61,
     "metadata": {},
     "output_type": "execute_result"
    }
   ],
   "source": [
    "a= np.array([[[1,2,3,4,5,6]]])\n",
    "print(a)\n",
    "a.ndim\n"
   ]
  },
  {
   "cell_type": "code",
   "execution_count": 65,
   "id": "6077cc95",
   "metadata": {},
   "outputs": [
    {
     "data": {
      "text/plain": [
       "6"
      ]
     },
     "execution_count": 65,
     "metadata": {},
     "output_type": "execute_result"
    }
   ],
   "source": [
    "a[0][0][-1]"
   ]
  },
  {
   "cell_type": "code",
   "execution_count": null,
   "id": "c20bda34",
   "metadata": {},
   "outputs": [],
   "source": []
  },
  {
   "cell_type": "markdown",
   "id": "d1e7968c",
   "metadata": {},
   "source": [
    "# Creating Randome numbers"
   ]
  },
  {
   "cell_type": "code",
   "execution_count": null,
   "id": "07342827",
   "metadata": {},
   "outputs": [],
   "source": []
  },
  {
   "cell_type": "code",
   "execution_count": 70,
   "id": "e28b6613",
   "metadata": {},
   "outputs": [
    {
     "data": {
      "text/plain": [
       "array([0.19517768, 0.56528152, 0.3140566 , 0.56608729])"
      ]
     },
     "execution_count": 70,
     "metadata": {},
     "output_type": "execute_result"
    }
   ],
   "source": [
    "np.random.rand(4)"
   ]
  },
  {
   "cell_type": "code",
   "execution_count": 71,
   "id": "94b4b43e",
   "metadata": {},
   "outputs": [
    {
     "data": {
      "text/plain": [
       "array([[0.25128749, 0.26889081, 0.14871672, 0.14775165],\n",
       "       [0.11144292, 0.93019031, 0.99997193, 0.44653165],\n",
       "       [0.02498665, 0.53923178, 0.97814736, 0.24588083],\n",
       "       [0.37097715, 0.83275902, 0.18535741, 0.89923988]])"
      ]
     },
     "execution_count": 71,
     "metadata": {},
     "output_type": "execute_result"
    }
   ],
   "source": [
    "np.random.rand(4,4)"
   ]
  },
  {
   "cell_type": "code",
   "execution_count": 74,
   "id": "96e343da",
   "metadata": {},
   "outputs": [
    {
     "name": "stdout",
     "output_type": "stream",
     "text": [
      "[[[0.70338031 0.52880084 0.1178342  0.72780587]\n",
      "  [0.02468723 0.90436406 0.20660672 0.06592884]\n",
      "  [0.28340892 0.40967575 0.87437051 0.03636183]\n",
      "  [0.83264112 0.66509487 0.29261969 0.82939905]]\n",
      "\n",
      " [[0.30497081 0.32876473 0.32823747 0.8945001 ]\n",
      "  [0.75112509 0.95503317 0.44263751 0.99017717]\n",
      "  [0.68220517 0.08503796 0.67194847 0.83702487]\n",
      "  [0.69103556 0.86291095 0.08191935 0.45846776]]\n",
      "\n",
      " [[0.2717907  0.03727452 0.68835237 0.88573322]\n",
      "  [0.27385591 0.30809869 0.45591449 0.996361  ]\n",
      "  [0.58583085 0.88762688 0.62746554 0.47086774]\n",
      "  [0.14079264 0.04938096 0.89141283 0.99857098]]\n",
      "\n",
      " [[0.41074434 0.12660768 0.77160542 0.98439844]\n",
      "  [0.94168068 0.23405857 0.00974245 0.00916105]\n",
      "  [0.91781758 0.09903738 0.22076368 0.94417166]\n",
      "  [0.17751129 0.55789949 0.09186614 0.58055697]]]\n"
     ]
    },
    {
     "data": {
      "text/plain": [
       "3"
      ]
     },
     "execution_count": 74,
     "metadata": {},
     "output_type": "execute_result"
    }
   ],
   "source": [
    "a=np.random.rand(4,4,4)\n",
    "print(a)\n",
    "a.ndim"
   ]
  },
  {
   "cell_type": "code",
   "execution_count": 76,
   "id": "b239673a",
   "metadata": {},
   "outputs": [
    {
     "name": "stdout",
     "output_type": "stream",
     "text": [
      "[[[[0.41492615 0.51400063 0.10982649 0.36308527]\n",
      "   [0.28568396 0.52464685 0.95224734 0.99807194]\n",
      "   [0.126213   0.64411998 0.45428341 0.73134935]\n",
      "   [0.15904399 0.01185817 0.29930359 0.1016113 ]]\n",
      "\n",
      "  [[0.01871363 0.43848333 0.19997603 0.97259143]\n",
      "   [0.29373174 0.44871272 0.83535391 0.44593944]\n",
      "   [0.89140984 0.28104702 0.79266171 0.58389265]\n",
      "   [0.60927516 0.54086742 0.99934652 0.93916834]]\n",
      "\n",
      "  [[0.60692252 0.35482219 0.29783923 0.45753373]\n",
      "   [0.21792085 0.3610872  0.21445462 0.36788153]\n",
      "   [0.24693284 0.01560877 0.46586464 0.7886885 ]\n",
      "   [0.25308053 0.17122519 0.34340964 0.27751701]]\n",
      "\n",
      "  [[0.58902064 0.74597193 0.32284388 0.03997302]\n",
      "   [0.47900998 0.96052148 0.7100521  0.92266857]\n",
      "   [0.64650494 0.27289356 0.04763421 0.20861965]\n",
      "   [0.52401402 0.73742586 0.11769386 0.95076659]]]\n",
      "\n",
      "\n",
      " [[[0.14647379 0.72999165 0.30408157 0.23159779]\n",
      "   [0.8682752  0.15600891 0.28087444 0.79511983]\n",
      "   [0.03429402 0.60284717 0.30220668 0.62713611]\n",
      "   [0.34094172 0.45151528 0.62731441 0.75904731]]\n",
      "\n",
      "  [[0.95497128 0.42238218 0.61172135 0.02983828]\n",
      "   [0.19457606 0.00962066 0.61931614 0.97075767]\n",
      "   [0.17227226 0.21620108 0.19875614 0.61507319]\n",
      "   [0.53402126 0.26006045 0.66247006 0.92935497]]\n",
      "\n",
      "  [[0.05170386 0.10087831 0.10753432 0.05637883]\n",
      "   [0.05049683 0.31360682 0.31137861 0.4937682 ]\n",
      "   [0.57111763 0.05371878 0.81799809 0.10701471]\n",
      "   [0.0531472  0.64897299 0.15935665 0.98878986]]\n",
      "\n",
      "  [[0.73507795 0.37281232 0.94261427 0.19778902]\n",
      "   [0.23586604 0.04584856 0.14824117 0.45840366]\n",
      "   [0.58311129 0.3483562  0.80208127 0.12502081]\n",
      "   [0.79670878 0.8825196  0.0401715  0.76845667]]]\n",
      "\n",
      "\n",
      " [[[0.54388659 0.27480217 0.91821596 0.80973628]\n",
      "   [0.98542826 0.9609504  0.79033658 0.20884459]\n",
      "   [0.59777122 0.42285511 0.66525314 0.74824455]\n",
      "   [0.04331844 0.77445666 0.18785114 0.41964015]]\n",
      "\n",
      "  [[0.82791928 0.01406451 0.53779442 0.07506146]\n",
      "   [0.80870228 0.0981947  0.59580798 0.30297184]\n",
      "   [0.59506848 0.15527439 0.60689503 0.83123731]\n",
      "   [0.04168342 0.11810564 0.16156119 0.11720852]]\n",
      "\n",
      "  [[0.49760778 0.60618235 0.54739228 0.87193962]\n",
      "   [0.15038998 0.57361232 0.23169405 0.66674862]\n",
      "   [0.98673701 0.50450684 0.44106347 0.85636663]\n",
      "   [0.20698692 0.54247789 0.53358781 0.37567093]]\n",
      "\n",
      "  [[0.27185455 0.55126201 0.3451981  0.82010425]\n",
      "   [0.4821305  0.90903558 0.89559036 0.13024348]\n",
      "   [0.92960214 0.92669582 0.88486393 0.50414931]\n",
      "   [0.93072631 0.93530276 0.21984071 0.20374864]]]\n",
      "\n",
      "\n",
      " [[[0.58802529 0.02775301 0.50369919 0.62217096]\n",
      "   [0.81905236 0.47907203 0.9789032  0.89711306]\n",
      "   [0.36423912 0.85883301 0.4669938  0.28690084]\n",
      "   [0.34295263 0.27282979 0.83133601 0.64748062]]\n",
      "\n",
      "  [[0.99695512 0.93300644 0.56056314 0.01866207]\n",
      "   [0.0460269  0.81417756 0.27785069 0.38807941]\n",
      "   [0.78105754 0.47444379 0.89089263 0.42437711]\n",
      "   [0.18433477 0.18940641 0.49055303 0.35366119]]\n",
      "\n",
      "  [[0.17654472 0.16234222 0.0983172  0.29833765]\n",
      "   [0.49912005 0.27256576 0.43196412 0.40363827]\n",
      "   [0.27960389 0.54757579 0.99907868 0.38796496]\n",
      "   [0.16648935 0.70425112 0.40641959 0.87335663]]\n",
      "\n",
      "  [[0.47649586 0.07117093 0.52711203 0.33518994]\n",
      "   [0.18208279 0.1841283  0.04043957 0.98242849]\n",
      "   [0.48010474 0.45526777 0.10626751 0.16144477]\n",
      "   [0.55685449 0.65590615 0.30794841 0.12085975]]]]\n"
     ]
    },
    {
     "data": {
      "text/plain": [
       "4"
      ]
     },
     "execution_count": 76,
     "metadata": {},
     "output_type": "execute_result"
    }
   ],
   "source": [
    "a=np.random.rand(4,4,4,4)\n",
    "print(a)\n",
    "a.ndim"
   ]
  },
  {
   "cell_type": "code",
   "execution_count": null,
   "id": "0bf3bd49",
   "metadata": {},
   "outputs": [],
   "source": []
  },
  {
   "cell_type": "code",
   "execution_count": 77,
   "id": "f88e4c02",
   "metadata": {},
   "outputs": [
    {
     "data": {
      "text/plain": [
       "array([[9, 4, 7, 3, 4],\n",
       "       [7, 2, 2, 6, 6],\n",
       "       [6, 3, 4, 8, 5],\n",
       "       [1, 4, 3, 6, 9],\n",
       "       [4, 6, 8, 3, 8]])"
      ]
     },
     "execution_count": 77,
     "metadata": {},
     "output_type": "execute_result"
    }
   ],
   "source": [
    "np.random.randint(1,10,(5,5))"
   ]
  },
  {
   "cell_type": "code",
   "execution_count": 82,
   "id": "ec3a28cb",
   "metadata": {},
   "outputs": [
    {
     "data": {
      "text/plain": [
       "array([[14, 92],\n",
       "       [84, 54],\n",
       "       [70,  3],\n",
       "       [85, 99],\n",
       "       [29, 84]])"
      ]
     },
     "execution_count": 82,
     "metadata": {},
     "output_type": "execute_result"
    }
   ],
   "source": [
    "np.random.randint(1,100,(5,2))"
   ]
  },
  {
   "cell_type": "code",
   "execution_count": null,
   "id": "0f783d5a",
   "metadata": {},
   "outputs": [],
   "source": []
  },
  {
   "cell_type": "markdown",
   "id": "66e75db7",
   "metadata": {},
   "source": [
    "# Reshape"
   ]
  },
  {
   "cell_type": "code",
   "execution_count": 84,
   "id": "a6de5758",
   "metadata": {},
   "outputs": [
    {
     "data": {
      "text/plain": [
       "array([[20,  7, 98, 56, 52, 48, 54, 33, 67, 13],\n",
       "       [60, 79, 44, 68, 27, 89, 34, 47, 45, 67],\n",
       "       [50, 90, 25, 26, 38, 72, 73, 62,  8, 49],\n",
       "       [28, 51,  7, 86, 95, 37, 53, 43, 78, 58],\n",
       "       [30, 96, 15, 15, 23, 53, 58, 16, 94, 89]])"
      ]
     },
     "execution_count": 84,
     "metadata": {},
     "output_type": "execute_result"
    }
   ],
   "source": [
    "a=np.random.randint(1,100,(5,10))\n",
    "a"
   ]
  },
  {
   "cell_type": "code",
   "execution_count": null,
   "id": "5810c76c",
   "metadata": {},
   "outputs": [],
   "source": [
    "50\n",
    "50 *1\n",
    "25*2\n",
    "10*5"
   ]
  },
  {
   "cell_type": "code",
   "execution_count": 88,
   "id": "bf0a15da",
   "metadata": {},
   "outputs": [
    {
     "data": {
      "text/plain": [
       "array([[20,  7],\n",
       "       [98, 56],\n",
       "       [52, 48],\n",
       "       [54, 33],\n",
       "       [67, 13],\n",
       "       [60, 79],\n",
       "       [44, 68],\n",
       "       [27, 89],\n",
       "       [34, 47],\n",
       "       [45, 67],\n",
       "       [50, 90],\n",
       "       [25, 26],\n",
       "       [38, 72],\n",
       "       [73, 62],\n",
       "       [ 8, 49],\n",
       "       [28, 51],\n",
       "       [ 7, 86],\n",
       "       [95, 37],\n",
       "       [53, 43],\n",
       "       [78, 58],\n",
       "       [30, 96],\n",
       "       [15, 15],\n",
       "       [23, 53],\n",
       "       [58, 16],\n",
       "       [94, 89]])"
      ]
     },
     "execution_count": 88,
     "metadata": {},
     "output_type": "execute_result"
    }
   ],
   "source": [
    "b=a.reshape(25,2)\n",
    "b"
   ]
  },
  {
   "cell_type": "code",
   "execution_count": 89,
   "id": "6a59dd94",
   "metadata": {},
   "outputs": [
    {
     "data": {
      "text/plain": [
       "array([[20,  7, 98, 56, 52],\n",
       "       [48, 54, 33, 67, 13],\n",
       "       [60, 79, 44, 68, 27],\n",
       "       [89, 34, 47, 45, 67],\n",
       "       [50, 90, 25, 26, 38],\n",
       "       [72, 73, 62,  8, 49],\n",
       "       [28, 51,  7, 86, 95],\n",
       "       [37, 53, 43, 78, 58],\n",
       "       [30, 96, 15, 15, 23],\n",
       "       [53, 58, 16, 94, 89]])"
      ]
     },
     "execution_count": 89,
     "metadata": {},
     "output_type": "execute_result"
    }
   ],
   "source": [
    "b=a.reshape(10,5)\n",
    "b"
   ]
  },
  {
   "cell_type": "code",
   "execution_count": 90,
   "id": "7250e699",
   "metadata": {},
   "outputs": [
    {
     "data": {
      "text/plain": [
       "array([[76, 59, 25, 97, 45, 15, 82, 77, 10, 91, 26, 90, 16, 55, 53, 91,\n",
       "        15, 65, 89, 45, 98, 95, 56, 38, 30, 98, 98, 89, 74,  7, 36,  5,\n",
       "        22, 62, 58,  1, 95, 23, 13, 96, 16,  7, 31,  7, 94, 48, 54, 29,\n",
       "        36, 43, 90, 28, 51, 55, 87, 15, 56, 27, 69, 27, 83, 11, 55,  6,\n",
       "        40, 15, 68, 63, 56, 35, 39, 45, 70, 55, 83, 47, 62, 32, 77, 39,\n",
       "        91, 51, 25,  5, 93, 53, 82, 12, 56, 87,  9,  6, 59,  5, 57, 98,\n",
       "        92, 26, 28, 52]])"
      ]
     },
     "execution_count": 90,
     "metadata": {},
     "output_type": "execute_result"
    }
   ],
   "source": [
    "a=np.random.randint(1,100,(1,100))\n",
    "a"
   ]
  },
  {
   "cell_type": "code",
   "execution_count": null,
   "id": "315e703f",
   "metadata": {},
   "outputs": [],
   "source": [
    "10*10\n",
    "25*4\n",
    "50*2\n",
    "100*1\n",
    "20*5"
   ]
  },
  {
   "cell_type": "code",
   "execution_count": null,
   "id": "fe13d7e7",
   "metadata": {},
   "outputs": [],
   "source": []
  },
  {
   "cell_type": "code",
   "execution_count": 96,
   "id": "117e3f11",
   "metadata": {},
   "outputs": [
    {
     "data": {
      "text/plain": [
       "array([[76, 59, 25, 97, 45, 15, 82, 77, 10, 91, 26, 90, 16, 55, 53, 91,\n",
       "        15, 65, 89, 45],\n",
       "       [98, 95, 56, 38, 30, 98, 98, 89, 74,  7, 36,  5, 22, 62, 58,  1,\n",
       "        95, 23, 13, 96],\n",
       "       [16,  7, 31,  7, 94, 48, 54, 29, 36, 43, 90, 28, 51, 55, 87, 15,\n",
       "        56, 27, 69, 27],\n",
       "       [83, 11, 55,  6, 40, 15, 68, 63, 56, 35, 39, 45, 70, 55, 83, 47,\n",
       "        62, 32, 77, 39],\n",
       "       [91, 51, 25,  5, 93, 53, 82, 12, 56, 87,  9,  6, 59,  5, 57, 98,\n",
       "        92, 26, 28, 52]])"
      ]
     },
     "execution_count": 96,
     "metadata": {},
     "output_type": "execute_result"
    }
   ],
   "source": [
    "b=a.reshape(5,20)\n",
    "b"
   ]
  },
  {
   "cell_type": "code",
   "execution_count": null,
   "id": "97f154a5",
   "metadata": {},
   "outputs": [],
   "source": []
  },
  {
   "cell_type": "code",
   "execution_count": null,
   "id": "b375b275",
   "metadata": {},
   "outputs": [],
   "source": []
  },
  {
   "cell_type": "markdown",
   "id": "f3596e5b",
   "metadata": {},
   "source": [
    "# Zeros"
   ]
  },
  {
   "cell_type": "code",
   "execution_count": null,
   "id": "188693e0",
   "metadata": {},
   "outputs": [],
   "source": [
    "# Return a new array of given shape and type, filled with zeros."
   ]
  },
  {
   "cell_type": "code",
   "execution_count": 98,
   "id": "e4dd31a9",
   "metadata": {},
   "outputs": [
    {
     "data": {
      "text/plain": [
       "array([0., 0., 0., 0., 0., 0., 0., 0., 0.])"
      ]
     },
     "execution_count": 98,
     "metadata": {},
     "output_type": "execute_result"
    }
   ],
   "source": [
    "np.zeros((9))"
   ]
  },
  {
   "cell_type": "code",
   "execution_count": 99,
   "id": "6aea3cbc",
   "metadata": {},
   "outputs": [
    {
     "data": {
      "text/plain": [
       "array([[[0., 0., 0.],\n",
       "        [0., 0., 0.],\n",
       "        [0., 0., 0.]],\n",
       "\n",
       "       [[0., 0., 0.],\n",
       "        [0., 0., 0.],\n",
       "        [0., 0., 0.]],\n",
       "\n",
       "       [[0., 0., 0.],\n",
       "        [0., 0., 0.],\n",
       "        [0., 0., 0.]]])"
      ]
     },
     "execution_count": 99,
     "metadata": {},
     "output_type": "execute_result"
    }
   ],
   "source": [
    "np.zeros((3,3,3))"
   ]
  },
  {
   "cell_type": "code",
   "execution_count": 97,
   "id": "4d5aea44",
   "metadata": {},
   "outputs": [
    {
     "data": {
      "text/plain": [
       "array([[0., 0., 0.],\n",
       "       [0., 0., 0.],\n",
       "       [0., 0., 0.],\n",
       "       [0., 0., 0.],\n",
       "       [0., 0., 0.],\n",
       "       [0., 0., 0.],\n",
       "       [0., 0., 0.],\n",
       "       [0., 0., 0.],\n",
       "       [0., 0., 0.]])"
      ]
     },
     "execution_count": 97,
     "metadata": {},
     "output_type": "execute_result"
    }
   ],
   "source": [
    "np.zeros((9,3))"
   ]
  },
  {
   "cell_type": "code",
   "execution_count": null,
   "id": "d4a4b7a3",
   "metadata": {},
   "outputs": [],
   "source": []
  },
  {
   "cell_type": "code",
   "execution_count": 100,
   "id": "5ea10d84",
   "metadata": {
    "scrolled": true
   },
   "outputs": [
    {
     "data": {
      "text/plain": [
       "array([[0, 0, 0, 0, 0, 0, 0, 0, 0, 0, 0, 0, 0, 0, 0, 0, 0, 0, 0, 0],\n",
       "       [0, 0, 0, 0, 0, 0, 0, 0, 0, 0, 0, 0, 0, 0, 0, 0, 0, 0, 0, 0],\n",
       "       [0, 0, 0, 0, 0, 0, 0, 0, 0, 0, 0, 0, 0, 0, 0, 0, 0, 0, 0, 0],\n",
       "       [0, 0, 0, 0, 0, 0, 0, 0, 0, 0, 0, 0, 0, 0, 0, 0, 0, 0, 0, 0],\n",
       "       [0, 0, 0, 0, 0, 0, 0, 0, 0, 0, 0, 0, 0, 0, 0, 0, 0, 0, 0, 0]])"
      ]
     },
     "execution_count": 100,
     "metadata": {},
     "output_type": "execute_result"
    }
   ],
   "source": [
    "np.zeros_like(b)"
   ]
  },
  {
   "cell_type": "code",
   "execution_count": null,
   "id": "51b18ce2",
   "metadata": {},
   "outputs": [],
   "source": []
  },
  {
   "cell_type": "code",
   "execution_count": null,
   "id": "3b7018de",
   "metadata": {},
   "outputs": [],
   "source": []
  },
  {
   "cell_type": "markdown",
   "id": "a2b35d2e",
   "metadata": {},
   "source": [
    "# Ones"
   ]
  },
  {
   "cell_type": "markdown",
   "id": "83025f4b",
   "metadata": {},
   "source": [
    "Return a new array of given shape and type, filled with ones."
   ]
  },
  {
   "cell_type": "code",
   "execution_count": 101,
   "id": "61b61742",
   "metadata": {},
   "outputs": [
    {
     "data": {
      "text/plain": [
       "array([[[1., 1., 1.],\n",
       "        [1., 1., 1.],\n",
       "        [1., 1., 1.]],\n",
       "\n",
       "       [[1., 1., 1.],\n",
       "        [1., 1., 1.],\n",
       "        [1., 1., 1.]],\n",
       "\n",
       "       [[1., 1., 1.],\n",
       "        [1., 1., 1.],\n",
       "        [1., 1., 1.]]])"
      ]
     },
     "execution_count": 101,
     "metadata": {},
     "output_type": "execute_result"
    }
   ],
   "source": [
    "np.ones((3,3,3))"
   ]
  },
  {
   "cell_type": "code",
   "execution_count": 102,
   "id": "b7317772",
   "metadata": {},
   "outputs": [
    {
     "data": {
      "text/plain": [
       "array([[1, 1, 1, 1, 1, 1, 1, 1, 1, 1, 1, 1, 1, 1, 1, 1, 1, 1, 1, 1],\n",
       "       [1, 1, 1, 1, 1, 1, 1, 1, 1, 1, 1, 1, 1, 1, 1, 1, 1, 1, 1, 1],\n",
       "       [1, 1, 1, 1, 1, 1, 1, 1, 1, 1, 1, 1, 1, 1, 1, 1, 1, 1, 1, 1],\n",
       "       [1, 1, 1, 1, 1, 1, 1, 1, 1, 1, 1, 1, 1, 1, 1, 1, 1, 1, 1, 1],\n",
       "       [1, 1, 1, 1, 1, 1, 1, 1, 1, 1, 1, 1, 1, 1, 1, 1, 1, 1, 1, 1]])"
      ]
     },
     "execution_count": 102,
     "metadata": {},
     "output_type": "execute_result"
    }
   ],
   "source": [
    "np.ones_like(b)"
   ]
  },
  {
   "cell_type": "code",
   "execution_count": null,
   "id": "828890e3",
   "metadata": {},
   "outputs": [],
   "source": []
  },
  {
   "cell_type": "markdown",
   "id": "00e45ecc",
   "metadata": {},
   "source": [
    "# Full"
   ]
  },
  {
   "cell_type": "markdown",
   "id": "6f230405",
   "metadata": {},
   "source": [
    "Return a new array of given shape and type, filled with fill_value."
   ]
  },
  {
   "cell_type": "code",
   "execution_count": 103,
   "id": "e8d12532",
   "metadata": {},
   "outputs": [
    {
     "data": {
      "text/plain": [
       "array([[100, 100, 100, 100, 100],\n",
       "       [100, 100, 100, 100, 100],\n",
       "       [100, 100, 100, 100, 100],\n",
       "       [100, 100, 100, 100, 100],\n",
       "       [100, 100, 100, 100, 100]])"
      ]
     },
     "execution_count": 103,
     "metadata": {},
     "output_type": "execute_result"
    }
   ],
   "source": [
    "np.full((5,5),100)"
   ]
  },
  {
   "cell_type": "code",
   "execution_count": 105,
   "id": "9c83cfca",
   "metadata": {},
   "outputs": [
    {
     "data": {
      "text/plain": [
       "array([['mS', 'mS', 'mS', 'mS', 'mS', 'mS', 'mS', 'mS'],\n",
       "       ['mS', 'mS', 'mS', 'mS', 'mS', 'mS', 'mS', 'mS'],\n",
       "       ['mS', 'mS', 'mS', 'mS', 'mS', 'mS', 'mS', 'mS'],\n",
       "       ['mS', 'mS', 'mS', 'mS', 'mS', 'mS', 'mS', 'mS']], dtype='<U2')"
      ]
     },
     "execution_count": 105,
     "metadata": {},
     "output_type": "execute_result"
    }
   ],
   "source": [
    "np.full((4,8),\"mS\")"
   ]
  },
  {
   "cell_type": "code",
   "execution_count": null,
   "id": "37a84468",
   "metadata": {},
   "outputs": [],
   "source": []
  },
  {
   "cell_type": "code",
   "execution_count": 106,
   "id": "579eef35",
   "metadata": {
    "scrolled": true
   },
   "outputs": [
    {
     "data": {
      "text/plain": [
       "array([[15, 15, 15, 15, 15, 15, 15, 15, 15, 15, 15, 15, 15, 15, 15, 15,\n",
       "        15, 15, 15, 15],\n",
       "       [15, 15, 15, 15, 15, 15, 15, 15, 15, 15, 15, 15, 15, 15, 15, 15,\n",
       "        15, 15, 15, 15],\n",
       "       [15, 15, 15, 15, 15, 15, 15, 15, 15, 15, 15, 15, 15, 15, 15, 15,\n",
       "        15, 15, 15, 15],\n",
       "       [15, 15, 15, 15, 15, 15, 15, 15, 15, 15, 15, 15, 15, 15, 15, 15,\n",
       "        15, 15, 15, 15],\n",
       "       [15, 15, 15, 15, 15, 15, 15, 15, 15, 15, 15, 15, 15, 15, 15, 15,\n",
       "        15, 15, 15, 15]])"
      ]
     },
     "execution_count": 106,
     "metadata": {},
     "output_type": "execute_result"
    }
   ],
   "source": [
    "np.full_like(b,15)"
   ]
  },
  {
   "cell_type": "code",
   "execution_count": null,
   "id": "3a5c4670",
   "metadata": {},
   "outputs": [],
   "source": []
  },
  {
   "cell_type": "markdown",
   "id": "b1ffe44b",
   "metadata": {},
   "source": [
    "# eye"
   ]
  },
  {
   "cell_type": "markdown",
   "id": "c951cfd7",
   "metadata": {},
   "source": [
    "- Return a 2-D array with ones on the diagonal and zeros elsewhere."
   ]
  },
  {
   "cell_type": "code",
   "execution_count": 107,
   "id": "f29a63b9",
   "metadata": {},
   "outputs": [
    {
     "data": {
      "text/plain": [
       "array([[1., 0., 0., 0., 0.],\n",
       "       [0., 1., 0., 0., 0.],\n",
       "       [0., 0., 1., 0., 0.],\n",
       "       [0., 0., 0., 1., 0.],\n",
       "       [0., 0., 0., 0., 1.]])"
      ]
     },
     "execution_count": 107,
     "metadata": {},
     "output_type": "execute_result"
    }
   ],
   "source": [
    "np.eye(5)"
   ]
  },
  {
   "cell_type": "code",
   "execution_count": 108,
   "id": "ed1d3df0",
   "metadata": {},
   "outputs": [
    {
     "data": {
      "text/plain": [
       "array([[1., 0., 0., 0., 0., 0., 0.],\n",
       "       [0., 1., 0., 0., 0., 0., 0.],\n",
       "       [0., 0., 1., 0., 0., 0., 0.],\n",
       "       [0., 0., 0., 1., 0., 0., 0.],\n",
       "       [0., 0., 0., 0., 1., 0., 0.]])"
      ]
     },
     "execution_count": 108,
     "metadata": {},
     "output_type": "execute_result"
    }
   ],
   "source": [
    "np.eye(5,7)"
   ]
  },
  {
   "cell_type": "code",
   "execution_count": 109,
   "id": "9dc429a7",
   "metadata": {},
   "outputs": [
    {
     "data": {
      "text/plain": [
       "array([[1., 0., 0., 0., 0., 0., 0., 0., 0., 0.],\n",
       "       [0., 1., 0., 0., 0., 0., 0., 0., 0., 0.],\n",
       "       [0., 0., 1., 0., 0., 0., 0., 0., 0., 0.],\n",
       "       [0., 0., 0., 1., 0., 0., 0., 0., 0., 0.],\n",
       "       [0., 0., 0., 0., 1., 0., 0., 0., 0., 0.],\n",
       "       [0., 0., 0., 0., 0., 1., 0., 0., 0., 0.],\n",
       "       [0., 0., 0., 0., 0., 0., 1., 0., 0., 0.],\n",
       "       [0., 0., 0., 0., 0., 0., 0., 1., 0., 0.],\n",
       "       [0., 0., 0., 0., 0., 0., 0., 0., 1., 0.],\n",
       "       [0., 0., 0., 0., 0., 0., 0., 0., 0., 1.]])"
      ]
     },
     "execution_count": 109,
     "metadata": {},
     "output_type": "execute_result"
    }
   ],
   "source": [
    "np.eye(10,10)"
   ]
  },
  {
   "cell_type": "code",
   "execution_count": 112,
   "id": "8a0f7d29",
   "metadata": {},
   "outputs": [
    {
     "data": {
      "text/plain": [
       "array([[0., 0., 0., 0., 1., 0., 0., 0., 0., 0.],\n",
       "       [0., 0., 0., 0., 0., 1., 0., 0., 0., 0.],\n",
       "       [0., 0., 0., 0., 0., 0., 1., 0., 0., 0.],\n",
       "       [0., 0., 0., 0., 0., 0., 0., 1., 0., 0.],\n",
       "       [0., 0., 0., 0., 0., 0., 0., 0., 1., 0.],\n",
       "       [0., 0., 0., 0., 0., 0., 0., 0., 0., 1.],\n",
       "       [0., 0., 0., 0., 0., 0., 0., 0., 0., 0.],\n",
       "       [0., 0., 0., 0., 0., 0., 0., 0., 0., 0.],\n",
       "       [0., 0., 0., 0., 0., 0., 0., 0., 0., 0.],\n",
       "       [0., 0., 0., 0., 0., 0., 0., 0., 0., 0.]])"
      ]
     },
     "execution_count": 112,
     "metadata": {},
     "output_type": "execute_result"
    }
   ],
   "source": [
    "np.eye(10,k=4)"
   ]
  },
  {
   "cell_type": "code",
   "execution_count": 115,
   "id": "e73f73d9",
   "metadata": {
    "scrolled": true
   },
   "outputs": [
    {
     "data": {
      "text/plain": [
       "array([[0., 0., 0., 0., 0., 0., 0., 0., 0., 0.],\n",
       "       [0., 0., 0., 0., 0., 0., 0., 0., 0., 0.],\n",
       "       [1., 0., 0., 0., 0., 0., 0., 0., 0., 0.],\n",
       "       [0., 1., 0., 0., 0., 0., 0., 0., 0., 0.],\n",
       "       [0., 0., 1., 0., 0., 0., 0., 0., 0., 0.],\n",
       "       [0., 0., 0., 1., 0., 0., 0., 0., 0., 0.],\n",
       "       [0., 0., 0., 0., 1., 0., 0., 0., 0., 0.],\n",
       "       [0., 0., 0., 0., 0., 1., 0., 0., 0., 0.],\n",
       "       [0., 0., 0., 0., 0., 0., 1., 0., 0., 0.],\n",
       "       [0., 0., 0., 0., 0., 0., 0., 1., 0., 0.]])"
      ]
     },
     "execution_count": 115,
     "metadata": {},
     "output_type": "execute_result"
    }
   ],
   "source": [
    "np.eye(10,k=-2)"
   ]
  },
  {
   "cell_type": "code",
   "execution_count": null,
   "id": "3e3c5415",
   "metadata": {},
   "outputs": [],
   "source": []
  },
  {
   "cell_type": "code",
   "execution_count": null,
   "id": "19c6c63c",
   "metadata": {},
   "outputs": [],
   "source": []
  },
  {
   "cell_type": "markdown",
   "id": "e0a009c0",
   "metadata": {},
   "source": [
    "# arange()"
   ]
  },
  {
   "cell_type": "code",
   "execution_count": 116,
   "id": "1ce99235",
   "metadata": {},
   "outputs": [
    {
     "data": {
      "text/plain": [
       "range(1, 10)"
      ]
     },
     "execution_count": 116,
     "metadata": {},
     "output_type": "execute_result"
    }
   ],
   "source": [
    "range(1,10)"
   ]
  },
  {
   "cell_type": "code",
   "execution_count": 117,
   "id": "1fd62853",
   "metadata": {},
   "outputs": [
    {
     "data": {
      "text/plain": [
       "[1, 2, 3, 4, 5, 6, 7, 8, 9]"
      ]
     },
     "execution_count": 117,
     "metadata": {},
     "output_type": "execute_result"
    }
   ],
   "source": [
    "list(range(1,10))"
   ]
  },
  {
   "cell_type": "code",
   "execution_count": 118,
   "id": "cbe3917d",
   "metadata": {},
   "outputs": [
    {
     "data": {
      "text/plain": [
       "[1, 3, 5, 7, 9]"
      ]
     },
     "execution_count": 118,
     "metadata": {},
     "output_type": "execute_result"
    }
   ],
   "source": [
    "list(range(1,10,2))"
   ]
  },
  {
   "cell_type": "code",
   "execution_count": 119,
   "id": "0f166441",
   "metadata": {},
   "outputs": [
    {
     "ename": "TypeError",
     "evalue": "'float' object cannot be interpreted as an integer",
     "output_type": "error",
     "traceback": [
      "\u001b[1;31m---------------------------------------------------------------------------\u001b[0m",
      "\u001b[1;31mTypeError\u001b[0m                                 Traceback (most recent call last)",
      "Input \u001b[1;32mIn [119]\u001b[0m, in \u001b[0;36m<cell line: 1>\u001b[1;34m()\u001b[0m\n\u001b[1;32m----> 1\u001b[0m \u001b[38;5;28mlist\u001b[39m(\u001b[38;5;28;43mrange\u001b[39;49m\u001b[43m(\u001b[49m\u001b[38;5;241;43m1\u001b[39;49m\u001b[43m,\u001b[49m\u001b[38;5;241;43m10\u001b[39;49m\u001b[43m,\u001b[49m\u001b[38;5;241;43m2.5\u001b[39;49m\u001b[43m)\u001b[49m)\n",
      "\u001b[1;31mTypeError\u001b[0m: 'float' object cannot be interpreted as an integer"
     ]
    }
   ],
   "source": [
    "list(range(1,10,2.5))"
   ]
  },
  {
   "cell_type": "code",
   "execution_count": 120,
   "id": "aa7021ae",
   "metadata": {},
   "outputs": [
    {
     "data": {
      "text/plain": [
       "array([1, 2, 3, 4, 5, 6, 7, 8, 9])"
      ]
     },
     "execution_count": 120,
     "metadata": {},
     "output_type": "execute_result"
    }
   ],
   "source": [
    "np.arange(1,10)"
   ]
  },
  {
   "cell_type": "code",
   "execution_count": 121,
   "id": "1a7c75ab",
   "metadata": {},
   "outputs": [
    {
     "data": {
      "text/plain": [
       "array([1. , 1.5, 2. , 2.5, 3. , 3.5, 4. , 4.5, 5. , 5.5, 6. , 6.5, 7. ,\n",
       "       7.5, 8. , 8.5, 9. , 9.5])"
      ]
     },
     "execution_count": 121,
     "metadata": {},
     "output_type": "execute_result"
    }
   ],
   "source": [
    "np.arange(1,10,0.5)"
   ]
  },
  {
   "cell_type": "code",
   "execution_count": null,
   "id": "ccd6c5b9",
   "metadata": {},
   "outputs": [],
   "source": []
  },
  {
   "cell_type": "code",
   "execution_count": 125,
   "id": "d0301fb1",
   "metadata": {},
   "outputs": [
    {
     "data": {
      "text/plain": [
       "array([[ 1,  2,  3,  4,  5,  6,  7,  8,  9, 10, 11, 12, 13, 14, 15, 16,\n",
       "        17, 18, 19, 20, 21, 22, 23, 24, 25],\n",
       "       [26, 27, 28, 29, 30, 31, 32, 33, 34, 35, 36, 37, 38, 39, 40, 41,\n",
       "        42, 43, 44, 45, 46, 47, 48, 49, 50]])"
      ]
     },
     "execution_count": 125,
     "metadata": {},
     "output_type": "execute_result"
    }
   ],
   "source": [
    "np.arange(1,51).reshape(2,25)"
   ]
  },
  {
   "cell_type": "code",
   "execution_count": null,
   "id": "cc401859",
   "metadata": {},
   "outputs": [],
   "source": []
  },
  {
   "cell_type": "markdown",
   "id": "2747f4cb",
   "metadata": {},
   "source": [
    "# LineSpace"
   ]
  },
  {
   "cell_type": "markdown",
   "id": "acfd34b8",
   "metadata": {},
   "source": [
    "Return evenly spaced numbers over a specified interval.\n",
    "\n",
    "Returns num evenly spaced samples, calculated over the interval [start, stop].\n",
    "\n",
    "The endpoint of the interval can optionally be excluded.\n"
   ]
  },
  {
   "cell_type": "code",
   "execution_count": null,
   "id": "b4883608",
   "metadata": {},
   "outputs": [],
   "source": []
  },
  {
   "cell_type": "code",
   "execution_count": 130,
   "id": "4e9af31a",
   "metadata": {},
   "outputs": [
    {
     "data": {
      "text/plain": [
       "array([  1.        ,   4.4137931 ,   7.82758621,  11.24137931,\n",
       "        14.65517241,  18.06896552,  21.48275862,  24.89655172,\n",
       "        28.31034483,  31.72413793,  35.13793103,  38.55172414,\n",
       "        41.96551724,  45.37931034,  48.79310345,  52.20689655,\n",
       "        55.62068966,  59.03448276,  62.44827586,  65.86206897,\n",
       "        69.27586207,  72.68965517,  76.10344828,  79.51724138,\n",
       "        82.93103448,  86.34482759,  89.75862069,  93.17241379,\n",
       "        96.5862069 , 100.        ])"
      ]
     },
     "execution_count": 130,
     "metadata": {},
     "output_type": "execute_result"
    }
   ],
   "source": [
    "np.linspace(1,100,30)"
   ]
  },
  {
   "cell_type": "code",
   "execution_count": 131,
   "id": "9b11efb7",
   "metadata": {},
   "outputs": [
    {
     "data": {
      "text/plain": [
       "array([ 1. ,  4.3,  7.6, 10.9, 14.2, 17.5, 20.8, 24.1, 27.4, 30.7, 34. ,\n",
       "       37.3, 40.6, 43.9, 47.2, 50.5, 53.8, 57.1, 60.4, 63.7, 67. , 70.3,\n",
       "       73.6, 76.9, 80.2, 83.5, 86.8, 90.1, 93.4, 96.7])"
      ]
     },
     "execution_count": 131,
     "metadata": {},
     "output_type": "execute_result"
    }
   ],
   "source": [
    "np.linspace(1,100,30, endpoint=False)"
   ]
  },
  {
   "cell_type": "code",
   "execution_count": 132,
   "id": "c8be089a",
   "metadata": {},
   "outputs": [
    {
     "data": {
      "text/plain": [
       "(array([ 1. ,  4.3,  7.6, 10.9, 14.2, 17.5, 20.8, 24.1, 27.4, 30.7, 34. ,\n",
       "        37.3, 40.6, 43.9, 47.2, 50.5, 53.8, 57.1, 60.4, 63.7, 67. , 70.3,\n",
       "        73.6, 76.9, 80.2, 83.5, 86.8, 90.1, 93.4, 96.7]),\n",
       " 3.3)"
      ]
     },
     "execution_count": 132,
     "metadata": {},
     "output_type": "execute_result"
    }
   ],
   "source": [
    "np.linspace(1,100,30, endpoint=False,retstep=True)"
   ]
  },
  {
   "cell_type": "code",
   "execution_count": 134,
   "id": "dd47bd6b",
   "metadata": {},
   "outputs": [
    {
     "data": {
      "text/plain": [
       "array([   1.        ,   15.47826087,   29.95652174,   44.43478261,\n",
       "         58.91304348,   73.39130435,   87.86956522,  102.34782609,\n",
       "        116.82608696,  131.30434783,  145.7826087 ,  160.26086957,\n",
       "        174.73913043,  189.2173913 ,  203.69565217,  218.17391304,\n",
       "        232.65217391,  247.13043478,  261.60869565,  276.08695652,\n",
       "        290.56521739,  305.04347826,  319.52173913,  334.        ,\n",
       "        348.47826087,  362.95652174,  377.43478261,  391.91304348,\n",
       "        406.39130435,  420.86956522,  435.34782609,  449.82608696,\n",
       "        464.30434783,  478.7826087 ,  493.26086957,  507.73913043,\n",
       "        522.2173913 ,  536.69565217,  551.17391304,  565.65217391,\n",
       "        580.13043478,  594.60869565,  609.08695652,  623.56521739,\n",
       "        638.04347826,  652.52173913,  667.        ,  681.47826087,\n",
       "        695.95652174,  710.43478261,  724.91304348,  739.39130435,\n",
       "        753.86956522,  768.34782609,  782.82608696,  797.30434783,\n",
       "        811.7826087 ,  826.26086957,  840.73913043,  855.2173913 ,\n",
       "        869.69565217,  884.17391304,  898.65217391,  913.13043478,\n",
       "        927.60869565,  942.08695652,  956.56521739,  971.04347826,\n",
       "        985.52173913, 1000.        ])"
      ]
     },
     "execution_count": 134,
     "metadata": {},
     "output_type": "execute_result"
    }
   ],
   "source": [
    "np.linspace(1,1000,70)"
   ]
  },
  {
   "cell_type": "code",
   "execution_count": null,
   "id": "aed23f25",
   "metadata": {},
   "outputs": [],
   "source": []
  },
  {
   "cell_type": "code",
   "execution_count": null,
   "id": "474d7a8e",
   "metadata": {},
   "outputs": [],
   "source": []
  },
  {
   "cell_type": "code",
   "execution_count": null,
   "id": "7841ec8f",
   "metadata": {},
   "outputs": [],
   "source": []
  },
  {
   "cell_type": "markdown",
   "id": "f6f62eb3",
   "metadata": {},
   "source": [
    "# Logspace"
   ]
  },
  {
   "cell_type": "markdown",
   "id": "9903d506",
   "metadata": {},
   "source": [
    "\n",
    "- Return numbers spaced evenly on a log scale.\n",
    "- LOG-BASE10\n",
    "\n"
   ]
  },
  {
   "cell_type": "code",
   "execution_count": 135,
   "id": "1ea7aa99",
   "metadata": {},
   "outputs": [
    {
     "data": {
      "text/plain": [
       "array([1.00000000e+001, 1.04811313e+003, 1.09854114e+005, 1.15139540e+007,\n",
       "       1.20679264e+009, 1.26485522e+011, 1.32571137e+013, 1.38949549e+015,\n",
       "       1.45634848e+017, 1.52641797e+019, 1.59985872e+021, 1.67683294e+023,\n",
       "       1.75751062e+025, 1.84206997e+027, 1.93069773e+029, 2.02358965e+031,\n",
       "       2.12095089e+033, 2.22299648e+035, 2.32995181e+037, 2.44205309e+039,\n",
       "       2.55954792e+041, 2.68269580e+043, 2.81176870e+045, 2.94705170e+047,\n",
       "       3.08884360e+049, 3.23745754e+051, 3.39322177e+053, 3.55648031e+055,\n",
       "       3.72759372e+057, 3.90693994e+059, 4.09491506e+061, 4.29193426e+063,\n",
       "       4.49843267e+065, 4.71486636e+067, 4.94171336e+069, 5.17947468e+071,\n",
       "       5.42867544e+073, 5.68986603e+075, 5.96362332e+077, 6.25055193e+079,\n",
       "       6.55128557e+081, 6.86648845e+083, 7.19685673e+085, 7.54312006e+087,\n",
       "       7.90604321e+089, 8.28642773e+091, 8.68511374e+093, 9.10298178e+095,\n",
       "       9.54095476e+097, 1.00000000e+100])"
      ]
     },
     "execution_count": 135,
     "metadata": {},
     "output_type": "execute_result"
    }
   ],
   "source": [
    "np.logspace(1,100)"
   ]
  },
  {
   "cell_type": "code",
   "execution_count": null,
   "id": "ea47d8c2",
   "metadata": {},
   "outputs": [],
   "source": []
  },
  {
   "cell_type": "code",
   "execution_count": null,
   "id": "7e42a805",
   "metadata": {},
   "outputs": [],
   "source": []
  },
  {
   "cell_type": "markdown",
   "id": "d00fb8fc",
   "metadata": {},
   "source": [
    "# Where"
   ]
  },
  {
   "cell_type": "code",
   "execution_count": 140,
   "id": "f47d441a",
   "metadata": {},
   "outputs": [
    {
     "data": {
      "text/plain": [
       "array([ 3,  4,  5,  6,  7,  8,  9, 10, 11, 12, 13, 14, 15, 16, 17, 18, 19,\n",
       "       20, 21, 22, 23, 24, 25, 26, 27, 28, 29, 30, 31, 32, 33, 34, 35, 36,\n",
       "       37, 38, 39, 40, 41, 42, 43, 44, 45, 46, 47, 48, 49])"
      ]
     },
     "execution_count": 140,
     "metadata": {},
     "output_type": "execute_result"
    }
   ],
   "source": [
    "z=np.arange(3,50)\n",
    "z"
   ]
  },
  {
   "cell_type": "code",
   "execution_count": 144,
   "id": "be6da809",
   "metadata": {},
   "outputs": [
    {
     "data": {
      "text/plain": [
       "(array([ 0,  1,  2,  3,  4,  5,  6,  7,  8,  9, 10, 11], dtype=int64),)"
      ]
     },
     "execution_count": 144,
     "metadata": {},
     "output_type": "execute_result"
    }
   ],
   "source": [
    "np.where(z<15)\n",
    "\n",
    "# it gives position of that element wch satisfy the condition"
   ]
  },
  {
   "cell_type": "code",
   "execution_count": 142,
   "id": "59ee6e50",
   "metadata": {},
   "outputs": [
    {
     "data": {
      "text/plain": [
       "(array([ 1,  3,  5,  7,  9, 11, 13, 15, 17, 19, 21, 23, 25, 27, 29, 31, 33,\n",
       "        35, 37, 39, 41, 43, 45], dtype=int64),)"
      ]
     },
     "execution_count": 142,
     "metadata": {},
     "output_type": "execute_result"
    }
   ],
   "source": [
    "np.where(z%2==0)"
   ]
  },
  {
   "cell_type": "code",
   "execution_count": 143,
   "id": "fb0fbff8",
   "metadata": {},
   "outputs": [
    {
     "data": {
      "text/plain": [
       "(array([3], dtype=int64),)"
      ]
     },
     "execution_count": 143,
     "metadata": {},
     "output_type": "execute_result"
    }
   ],
   "source": [
    "np.where(z==6)"
   ]
  },
  {
   "cell_type": "code",
   "execution_count": null,
   "id": "09b35ffd",
   "metadata": {},
   "outputs": [],
   "source": []
  },
  {
   "cell_type": "code",
   "execution_count": null,
   "id": "ad0dc693",
   "metadata": {},
   "outputs": [],
   "source": []
  },
  {
   "cell_type": "markdown",
   "id": "b66e561f",
   "metadata": {},
   "source": [
    "# Split"
   ]
  },
  {
   "cell_type": "markdown",
   "id": "98e0e80c",
   "metadata": {},
   "source": [
    "Split an array into multiple sub-arrays "
   ]
  },
  {
   "cell_type": "code",
   "execution_count": 145,
   "id": "edb1cdf3",
   "metadata": {},
   "outputs": [
    {
     "data": {
      "text/plain": [
       "array([0, 1, 2, 3, 4, 5, 6, 7, 8, 9])"
      ]
     },
     "execution_count": 145,
     "metadata": {},
     "output_type": "execute_result"
    }
   ],
   "source": [
    "e=np.arange(0,10)\n",
    "e"
   ]
  },
  {
   "cell_type": "code",
   "execution_count": 146,
   "id": "a2e252cc",
   "metadata": {},
   "outputs": [
    {
     "data": {
      "text/plain": [
       "[array([0, 1]), array([2, 3]), array([4, 5]), array([6, 7]), array([8, 9])]"
      ]
     },
     "execution_count": 146,
     "metadata": {},
     "output_type": "execute_result"
    }
   ],
   "source": [
    "np.split(e,5)"
   ]
  },
  {
   "cell_type": "code",
   "execution_count": 149,
   "id": "d61f9773",
   "metadata": {},
   "outputs": [
    {
     "data": {
      "text/plain": [
       "[array([0, 1, 2, 3, 4]), array([5, 6, 7, 8, 9])]"
      ]
     },
     "execution_count": 149,
     "metadata": {},
     "output_type": "execute_result"
    }
   ],
   "source": [
    "np.split(e,2)"
   ]
  },
  {
   "cell_type": "code",
   "execution_count": 150,
   "id": "3933969f",
   "metadata": {},
   "outputs": [],
   "source": [
    "a,b=np.split(e,2)"
   ]
  },
  {
   "cell_type": "code",
   "execution_count": 151,
   "id": "69ec08b7",
   "metadata": {},
   "outputs": [
    {
     "data": {
      "text/plain": [
       "array([0, 1, 2, 3, 4])"
      ]
     },
     "execution_count": 151,
     "metadata": {},
     "output_type": "execute_result"
    }
   ],
   "source": [
    "a"
   ]
  },
  {
   "cell_type": "code",
   "execution_count": 152,
   "id": "8310d04d",
   "metadata": {},
   "outputs": [
    {
     "data": {
      "text/plain": [
       "array([5, 6, 7, 8, 9])"
      ]
     },
     "execution_count": 152,
     "metadata": {},
     "output_type": "execute_result"
    }
   ],
   "source": [
    "b"
   ]
  },
  {
   "cell_type": "code",
   "execution_count": null,
   "id": "cc41be7a",
   "metadata": {},
   "outputs": [],
   "source": []
  },
  {
   "cell_type": "markdown",
   "id": "c049a528",
   "metadata": {},
   "source": [
    "# Airththematic Operations in numpy"
   ]
  },
  {
   "cell_type": "code",
   "execution_count": 153,
   "id": "67f316e0",
   "metadata": {},
   "outputs": [],
   "source": [
    "a=np.array([[1,2,10],[5,7,8]])\n",
    "b=np.array([[10,20,7],[50,70,7]])"
   ]
  },
  {
   "cell_type": "code",
   "execution_count": 154,
   "id": "8e8ab173",
   "metadata": {},
   "outputs": [
    {
     "data": {
      "text/plain": [
       "array([[ 1,  2, 10],\n",
       "       [ 5,  7,  8]])"
      ]
     },
     "execution_count": 154,
     "metadata": {},
     "output_type": "execute_result"
    }
   ],
   "source": [
    "a"
   ]
  },
  {
   "cell_type": "code",
   "execution_count": 155,
   "id": "8c75e00a",
   "metadata": {},
   "outputs": [
    {
     "data": {
      "text/plain": [
       "array([[10, 20,  7],\n",
       "       [50, 70,  7]])"
      ]
     },
     "execution_count": 155,
     "metadata": {},
     "output_type": "execute_result"
    }
   ],
   "source": [
    "b"
   ]
  },
  {
   "cell_type": "code",
   "execution_count": 156,
   "id": "4795030a",
   "metadata": {},
   "outputs": [
    {
     "data": {
      "text/plain": [
       "array([[11, 22, 17],\n",
       "       [55, 77, 15]])"
      ]
     },
     "execution_count": 156,
     "metadata": {},
     "output_type": "execute_result"
    }
   ],
   "source": [
    "np.add(a,b)"
   ]
  },
  {
   "cell_type": "code",
   "execution_count": 158,
   "id": "b242dace",
   "metadata": {},
   "outputs": [
    {
     "data": {
      "text/plain": [
       "array([[ -9, -18,   3],\n",
       "       [-45, -63,   1]])"
      ]
     },
     "execution_count": 158,
     "metadata": {},
     "output_type": "execute_result"
    }
   ],
   "source": [
    "np.subtract(a,b)"
   ]
  },
  {
   "cell_type": "code",
   "execution_count": null,
   "id": "4757c94e",
   "metadata": {},
   "outputs": [],
   "source": []
  },
  {
   "cell_type": "code",
   "execution_count": 159,
   "id": "1c378ed8",
   "metadata": {},
   "outputs": [
    {
     "data": {
      "text/plain": [
       "array([[ 10,  40,  70],\n",
       "       [250, 490,  56]])"
      ]
     },
     "execution_count": 159,
     "metadata": {},
     "output_type": "execute_result"
    }
   ],
   "source": [
    "np.multiply(a,b)"
   ]
  },
  {
   "cell_type": "code",
   "execution_count": null,
   "id": "5641110a",
   "metadata": {},
   "outputs": [],
   "source": []
  },
  {
   "cell_type": "code",
   "execution_count": 160,
   "id": "db152679",
   "metadata": {},
   "outputs": [
    {
     "data": {
      "text/plain": [
       "array([[0.1       , 0.1       , 1.42857143],\n",
       "       [0.1       , 0.1       , 1.14285714]])"
      ]
     },
     "execution_count": 160,
     "metadata": {},
     "output_type": "execute_result"
    }
   ],
   "source": [
    "np.divide(a,b)"
   ]
  },
  {
   "cell_type": "code",
   "execution_count": 161,
   "id": "a3318866",
   "metadata": {},
   "outputs": [
    {
     "data": {
      "text/plain": [
       "array([[1, 2, 3],\n",
       "       [5, 7, 1]], dtype=int32)"
      ]
     },
     "execution_count": 161,
     "metadata": {},
     "output_type": "execute_result"
    }
   ],
   "source": [
    "np.mod(a,b)"
   ]
  },
  {
   "cell_type": "code",
   "execution_count": 162,
   "id": "1fabe2f2",
   "metadata": {},
   "outputs": [
    {
     "data": {
      "text/plain": [
       "array([[         1,    1048576,   10000000],\n",
       "       [1296002393, 1187094929,    2097152]], dtype=int32)"
      ]
     },
     "execution_count": 162,
     "metadata": {},
     "output_type": "execute_result"
    }
   ],
   "source": [
    "np.power(a,b)"
   ]
  },
  {
   "cell_type": "code",
   "execution_count": null,
   "id": "898a93db",
   "metadata": {},
   "outputs": [],
   "source": []
  },
  {
   "cell_type": "code",
   "execution_count": null,
   "id": "e7f37cd4",
   "metadata": {},
   "outputs": [],
   "source": []
  },
  {
   "cell_type": "markdown",
   "id": "0e017f91",
   "metadata": {},
   "source": [
    "# Statistics"
   ]
  },
  {
   "cell_type": "code",
   "execution_count": 163,
   "id": "78eccde9",
   "metadata": {},
   "outputs": [
    {
     "data": {
      "text/plain": [
       "array([[ 50,  10,  30],\n",
       "       [500, 100, 300],\n",
       "       [  5,   1,   3]])"
      ]
     },
     "execution_count": 163,
     "metadata": {},
     "output_type": "execute_result"
    }
   ],
   "source": [
    "s=np.array([[50,10,30,],[500,100,300,],[5,1,3,]])\n",
    "s"
   ]
  },
  {
   "cell_type": "code",
   "execution_count": null,
   "id": "144a60a0",
   "metadata": {},
   "outputs": [],
   "source": []
  },
  {
   "cell_type": "code",
   "execution_count": 164,
   "id": "5c86f2d6",
   "metadata": {},
   "outputs": [
    {
     "data": {
      "text/plain": [
       "1"
      ]
     },
     "execution_count": 164,
     "metadata": {},
     "output_type": "execute_result"
    }
   ],
   "source": [
    "np.amin(s)"
   ]
  },
  {
   "cell_type": "code",
   "execution_count": 165,
   "id": "c6618141",
   "metadata": {},
   "outputs": [
    {
     "data": {
      "text/plain": [
       "500"
      ]
     },
     "execution_count": 165,
     "metadata": {},
     "output_type": "execute_result"
    }
   ],
   "source": [
    "np.amax(s)"
   ]
  },
  {
   "cell_type": "code",
   "execution_count": 166,
   "id": "f4bcb5ee",
   "metadata": {},
   "outputs": [
    {
     "data": {
      "text/plain": [
       "array([500, 100, 300])"
      ]
     },
     "execution_count": 166,
     "metadata": {},
     "output_type": "execute_result"
    }
   ],
   "source": [
    "np.amax(s,axis=0)"
   ]
  },
  {
   "cell_type": "code",
   "execution_count": 167,
   "id": "391b8769",
   "metadata": {},
   "outputs": [
    {
     "data": {
      "text/plain": [
       "array([ 50, 500,   5])"
      ]
     },
     "execution_count": 167,
     "metadata": {},
     "output_type": "execute_result"
    }
   ],
   "source": [
    "np.amax(s,axis=1)"
   ]
  },
  {
   "cell_type": "code",
   "execution_count": null,
   "id": "6ffecb23",
   "metadata": {},
   "outputs": [],
   "source": []
  },
  {
   "cell_type": "code",
   "execution_count": 168,
   "id": "bf982dcf",
   "metadata": {},
   "outputs": [
    {
     "data": {
      "text/plain": [
       "111.0"
      ]
     },
     "execution_count": 168,
     "metadata": {},
     "output_type": "execute_result"
    }
   ],
   "source": [
    "np.mean(s)"
   ]
  },
  {
   "cell_type": "code",
   "execution_count": 169,
   "id": "a795b206",
   "metadata": {},
   "outputs": [
    {
     "data": {
      "text/plain": [
       "26960.666666666668"
      ]
     },
     "execution_count": 169,
     "metadata": {},
     "output_type": "execute_result"
    }
   ],
   "source": [
    "np.var(s)"
   ]
  },
  {
   "cell_type": "code",
   "execution_count": 170,
   "id": "ace0e0dc",
   "metadata": {},
   "outputs": [
    {
     "data": {
      "text/plain": [
       "164.1970361080451"
      ]
     },
     "execution_count": 170,
     "metadata": {},
     "output_type": "execute_result"
    }
   ],
   "source": [
    "np.std(s)"
   ]
  },
  {
   "cell_type": "code",
   "execution_count": null,
   "id": "8d3395ec",
   "metadata": {},
   "outputs": [],
   "source": []
  },
  {
   "cell_type": "markdown",
   "id": "5e7398c4",
   "metadata": {},
   "source": [
    "# Datatype"
   ]
  },
  {
   "cell_type": "markdown",
   "id": "f9d416b1",
   "metadata": {},
   "source": [
    "### The main several data types supported by NumPy Python are:\n",
    "\n",
    "    np.bool_: This type is used to return boolean values like (True or False).\n",
    "    np.int: It is the default type of integer and C-type long.\n",
    "    intc: It is similar to C integer and it indicates 32 or 64 bit integer.\n",
    "    intp: This type indicates for indexing.\n",
    "    int8: By default its range value is -128 to 127.\n",
    "    int16: It is a 16 bit integer and by default its range value is (-32768 to 32767).\n",
    "    int32: it is for set 32-bit integer and the range value is (-2147483648 to 2147483647).\n",
    "    int64: By default its value is set at (-9223372036854775808 to 9223372036854775807).\n",
    "    uint8: It is a 8 bit integer and range value is (0 to 255).\n",
    "    uint16: It is a 16 bit unsigned integer and range value is (0 to 65535).\n",
    "    uint32: This is a unsigned integer with 32 bit and its value is (0 to 4294967295).\n",
    "    uint64: It is a 8 byte unsigned integer and range value is (0 to 18446744073709551615)."
   ]
  },
  {
   "cell_type": "code",
   "execution_count": 172,
   "id": "fbd92442",
   "metadata": {},
   "outputs": [
    {
     "data": {
      "text/plain": [
       "dtype('int32')"
      ]
     },
     "execution_count": 172,
     "metadata": {},
     "output_type": "execute_result"
    }
   ],
   "source": [
    "a=np.array([2555])\n",
    "a.dtype"
   ]
  },
  {
   "cell_type": "code",
   "execution_count": null,
   "id": "1dea8cdb",
   "metadata": {},
   "outputs": [],
   "source": []
  },
  {
   "cell_type": "code",
   "execution_count": 176,
   "id": "da19149b",
   "metadata": {},
   "outputs": [
    {
     "data": {
      "text/plain": [
       "dtype('float16')"
      ]
     },
     "execution_count": 176,
     "metadata": {},
     "output_type": "execute_result"
    }
   ],
   "source": [
    "a=np.array([12,2,3,6],dtype=np.float16)\n",
    "a.dtype"
   ]
  },
  {
   "cell_type": "code",
   "execution_count": 177,
   "id": "a7e20ec4",
   "metadata": {},
   "outputs": [
    {
     "data": {
      "text/plain": [
       "array([12.,  2.,  3.,  6.], dtype=float16)"
      ]
     },
     "execution_count": 177,
     "metadata": {},
     "output_type": "execute_result"
    }
   ],
   "source": [
    "a"
   ]
  },
  {
   "cell_type": "code",
   "execution_count": null,
   "id": "08b30b74",
   "metadata": {},
   "outputs": [],
   "source": []
  },
  {
   "cell_type": "code",
   "execution_count": 178,
   "id": "f90c7e02",
   "metadata": {},
   "outputs": [
    {
     "data": {
      "text/plain": [
       "array('1999-06-14', dtype='datetime64[D]')"
      ]
     },
     "execution_count": 178,
     "metadata": {},
     "output_type": "execute_result"
    }
   ],
   "source": [
    "np.array(np.datetime64('1999-06-14'))"
   ]
  },
  {
   "cell_type": "code",
   "execution_count": null,
   "id": "d45e0650",
   "metadata": {},
   "outputs": [],
   "source": []
  },
  {
   "cell_type": "code",
   "execution_count": null,
   "id": "2d89f4c3",
   "metadata": {},
   "outputs": [],
   "source": []
  },
  {
   "cell_type": "code",
   "execution_count": 182,
   "id": "c99e72b9",
   "metadata": {},
   "outputs": [
    {
     "data": {
      "text/plain": [
       "array([1., 2., 3.])"
      ]
     },
     "execution_count": 182,
     "metadata": {},
     "output_type": "execute_result"
    }
   ],
   "source": [
    "new=np.array([1.0,2.0,3.0])\n",
    "new"
   ]
  },
  {
   "cell_type": "code",
   "execution_count": 183,
   "id": "d8dd03b1",
   "metadata": {},
   "outputs": [],
   "source": [
    "b=np.array([1,2,3])"
   ]
  },
  {
   "cell_type": "code",
   "execution_count": 189,
   "id": "1e671257",
   "metadata": {},
   "outputs": [
    {
     "data": {
      "text/plain": [
       "array(['1', '2', '3'], dtype='<U11')"
      ]
     },
     "execution_count": 189,
     "metadata": {},
     "output_type": "execute_result"
    }
   ],
   "source": [
    "b.astype(\"str\")"
   ]
  },
  {
   "cell_type": "code",
   "execution_count": 190,
   "id": "e51ffc24",
   "metadata": {},
   "outputs": [
    {
     "data": {
      "text/plain": [
       "array([1., 2., 3.], dtype=float32)"
      ]
     },
     "execution_count": 190,
     "metadata": {},
     "output_type": "execute_result"
    }
   ],
   "source": [
    "b.astype(\"f\")"
   ]
  },
  {
   "cell_type": "code",
   "execution_count": null,
   "id": "e4928098",
   "metadata": {},
   "outputs": [],
   "source": []
  },
  {
   "cell_type": "code",
   "execution_count": 193,
   "id": "aedb36ed",
   "metadata": {},
   "outputs": [
    {
     "data": {
      "text/plain": [
       "127"
      ]
     },
     "execution_count": 193,
     "metadata": {},
     "output_type": "execute_result"
    }
   ],
   "source": [
    "np.iinfo(np.int8).max"
   ]
  },
  {
   "cell_type": "code",
   "execution_count": 194,
   "id": "471433fb",
   "metadata": {},
   "outputs": [
    {
     "data": {
      "text/plain": [
       "-128"
      ]
     },
     "execution_count": 194,
     "metadata": {},
     "output_type": "execute_result"
    }
   ],
   "source": [
    "np.iinfo(np.int8).min"
   ]
  },
  {
   "cell_type": "code",
   "execution_count": null,
   "id": "11dbd1b2",
   "metadata": {},
   "outputs": [],
   "source": []
  }
 ],
 "metadata": {
  "kernelspec": {
   "display_name": "Python 3 (ipykernel)",
   "language": "python",
   "name": "python3"
  },
  "language_info": {
   "codemirror_mode": {
    "name": "ipython",
    "version": 3
   },
   "file_extension": ".py",
   "mimetype": "text/x-python",
   "name": "python",
   "nbconvert_exporter": "python",
   "pygments_lexer": "ipython3",
   "version": "3.11.3"
  }
 },
 "nbformat": 4,
 "nbformat_minor": 5
}
