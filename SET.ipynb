{
 "cells": [
  {
   "cell_type": "markdown",
   "id": "25a9ef54",
   "metadata": {},
   "source": [
    "## SET Definition"
   ]
  },
  {
   "cell_type": "markdown",
   "id": "83bc2c52",
   "metadata": {},
   "source": [
    "*A set is the collectiopn of unordered items.\n",
    "*Each element in the set must be unique(not duplicate)\n",
    "*Sets remove the duplicate elements.\n",
    "*Sets are mutable means we can chgange it after its creation.\n",
    "*Unlike other collection in python there is no index attached to the element of the sets.\n",
    "*So we cannot directly access any element."
   ]
  },
  {
   "cell_type": "markdown",
   "id": "68b13075",
   "metadata": {},
   "source": [
    "## Creating the Sets"
   ]
  },
  {
   "cell_type": "code",
   "execution_count": 1,
   "id": "ea3591c7",
   "metadata": {},
   "outputs": [
    {
     "name": "stdout",
     "output_type": "stream",
     "text": [
      "{'Saturday', 'Monday', 'Thursday', 'Friday', 'Webnesday', 'Tuesday', 'Sunday'}\n"
     ]
    }
   ],
   "source": [
    "Days={\"Monday\",\"Tuesday\",\"Webnesday\",\"Thursday\",\"Friday\",\"Saturday\",\"Sunday\"}\n",
    "print(Days)"
   ]
  },
  {
   "cell_type": "markdown",
   "id": "3da6cbef",
   "metadata": {},
   "source": [
    "## Adding the element"
   ]
  },
  {
   "cell_type": "code",
   "execution_count": 2,
   "id": "889eba6a",
   "metadata": {},
   "outputs": [
    {
     "name": "stdout",
     "output_type": "stream",
     "text": [
      "{'Mango', 'Apple', 'Grapes'}\n",
      "{'Mango', 'Apple', 'Grapes', 'Strawberry'}\n"
     ]
    }
   ],
   "source": [
    "fruits={'Apple','Mango','Grapes'}\n",
    "print(fruits)\n",
    "fruits.add('Strawberry')\n",
    "print(fruits)\n"
   ]
  },
  {
   "cell_type": "code",
   "execution_count": 3,
   "id": "be1dac44",
   "metadata": {},
   "outputs": [
    {
     "name": "stdout",
     "output_type": "stream",
     "text": [
      "{'B', 'Grapes', 'a', 'Strawberry', 'n', 'Mango', 'Apple'}\n"
     ]
    }
   ],
   "source": [
    "fruits.update(\"Banana\")\n",
    "print(fruits)"
   ]
  },
  {
   "cell_type": "markdown",
   "id": "74d2b14c",
   "metadata": {},
   "source": [
    "## Removing elements"
   ]
  },
  {
   "cell_type": "code",
   "execution_count": 4,
   "id": "6349bd9a",
   "metadata": {},
   "outputs": [],
   "source": [
    "fruits={'Apple','Mango','Grapes','Strawberry','Banana'}\n",
    "fruits.discard ('Apple')"
   ]
  },
  {
   "cell_type": "code",
   "execution_count": 5,
   "id": "66561028",
   "metadata": {},
   "outputs": [
    {
     "name": "stdout",
     "output_type": "stream",
     "text": [
      "{'Banana', 'Grapes', 'Strawberry', 'Mango'}\n"
     ]
    }
   ],
   "source": [
    "print(fruits)"
   ]
  },
  {
   "cell_type": "code",
   "execution_count": 6,
   "id": "d5dc4dff",
   "metadata": {},
   "outputs": [],
   "source": [
    "fruits.discard('Kiwi')"
   ]
  },
  {
   "cell_type": "code",
   "execution_count": 7,
   "id": "1e790f60",
   "metadata": {},
   "outputs": [
    {
     "name": "stdout",
     "output_type": "stream",
     "text": [
      "{'Banana', 'Grapes', 'Strawberry', 'Mango'}\n"
     ]
    }
   ],
   "source": [
    "print(fruits)"
   ]
  },
  {
   "cell_type": "code",
   "execution_count": 8,
   "id": "ad5e788f",
   "metadata": {},
   "outputs": [],
   "source": [
    "fruits.remove('Grapes')"
   ]
  },
  {
   "cell_type": "code",
   "execution_count": 9,
   "id": "1301fa52",
   "metadata": {},
   "outputs": [
    {
     "name": "stdout",
     "output_type": "stream",
     "text": [
      "{'Banana', 'Strawberry', 'Mango'}\n"
     ]
    }
   ],
   "source": [
    "print(fruits)"
   ]
  },
  {
   "cell_type": "code",
   "execution_count": 10,
   "id": "1ed174b2",
   "metadata": {},
   "outputs": [
    {
     "name": "stdout",
     "output_type": "stream",
     "text": [
      "{'Banana', 'Strawberry', 'Mango'}\n"
     ]
    }
   ],
   "source": [
    "fruits.discard('Kiwi')\n",
    "print(fruits)"
   ]
  },
  {
   "cell_type": "code",
   "execution_count": 11,
   "id": "3898338a",
   "metadata": {},
   "outputs": [
    {
     "ename": "KeyError",
     "evalue": "'Kiwi'",
     "output_type": "error",
     "traceback": [
      "\u001b[1;31m---------------------------------------------------------------------------\u001b[0m",
      "\u001b[1;31mKeyError\u001b[0m                                  Traceback (most recent call last)",
      "Cell \u001b[1;32mIn[11], line 1\u001b[0m\n\u001b[1;32m----> 1\u001b[0m fruits\u001b[38;5;241m.\u001b[39mremove(\u001b[38;5;124m'\u001b[39m\u001b[38;5;124mKiwi\u001b[39m\u001b[38;5;124m'\u001b[39m)\n\u001b[0;32m      2\u001b[0m \u001b[38;5;28mprint\u001b[39m(fruits)\n",
      "\u001b[1;31mKeyError\u001b[0m: 'Kiwi'"
     ]
    }
   ],
   "source": [
    "fruits.remove('Kiwi')\n",
    "print(fruits)"
   ]
  },
  {
   "cell_type": "markdown",
   "id": "daf006af",
   "metadata": {},
   "source": [
    "## Set Operators"
   ]
  },
  {
   "cell_type": "markdown",
   "id": "0e1f8b35",
   "metadata": {},
   "source": [
    "- union()\n",
    "- intersection()\n",
    "- difference()\n",
    "- symmetic_difference()"
   ]
  },
  {
   "cell_type": "code",
   "execution_count": 13,
   "id": "97d9b74d",
   "metadata": {},
   "outputs": [
    {
     "name": "stdout",
     "output_type": "stream",
     "text": [
      "{1, 2, 3, 4, 5, 6}\n"
     ]
    }
   ],
   "source": [
    "my_set={1,2,3,4}\n",
    "my_set_2={3,4,5,6}\n",
    "print(my_set.union(my_set_2))"
   ]
  },
  {
   "cell_type": "code",
   "execution_count": 15,
   "id": "d956d923",
   "metadata": {},
   "outputs": [
    {
     "name": "stdout",
     "output_type": "stream",
     "text": [
      "{1, 2, 3, 4, 5, 6}\n"
     ]
    }
   ],
   "source": [
    "print( my_set|my_set_2)"
   ]
  },
  {
   "cell_type": "code",
   "execution_count": 16,
   "id": "0e4acbd2",
   "metadata": {},
   "outputs": [
    {
     "name": "stdout",
     "output_type": "stream",
     "text": [
      "{3, 4}\n"
     ]
    }
   ],
   "source": [
    "print(my_set.intersection(my_set_2))"
   ]
  },
  {
   "cell_type": "code",
   "execution_count": 17,
   "id": "e2b9fc4a",
   "metadata": {},
   "outputs": [
    {
     "name": "stdout",
     "output_type": "stream",
     "text": [
      "{3, 4}\n"
     ]
    }
   ],
   "source": [
    "print(my_set & my_set_2)"
   ]
  },
  {
   "cell_type": "code",
   "execution_count": 18,
   "id": "bdeedaf9",
   "metadata": {},
   "outputs": [
    {
     "name": "stdout",
     "output_type": "stream",
     "text": [
      "{1, 2}\n"
     ]
    }
   ],
   "source": [
    "print(my_set.difference(my_set_2))"
   ]
  },
  {
   "cell_type": "code",
   "execution_count": 19,
   "id": "df0e4c16",
   "metadata": {},
   "outputs": [
    {
     "name": "stdout",
     "output_type": "stream",
     "text": [
      "{1, 2}\n"
     ]
    }
   ],
   "source": [
    "print(my_set - my_set_2)"
   ]
  },
  {
   "cell_type": "code",
   "execution_count": 20,
   "id": "4c57fcfb",
   "metadata": {},
   "outputs": [
    {
     "name": "stdout",
     "output_type": "stream",
     "text": [
      "{1, 2, 5, 6}\n"
     ]
    }
   ],
   "source": [
    "print(my_set.symmetric_difference(my_set_2))"
   ]
  },
  {
   "cell_type": "code",
   "execution_count": 21,
   "id": "7003b40a",
   "metadata": {},
   "outputs": [
    {
     "name": "stdout",
     "output_type": "stream",
     "text": [
      "{1, 2, 5, 6}\n"
     ]
    }
   ],
   "source": [
    "print(my_set ^ my_set_2)"
   ]
  },
  {
   "cell_type": "markdown",
   "id": "774d2cce",
   "metadata": {},
   "source": [
    "## Check is subset"
   ]
  },
  {
   "cell_type": "code",
   "execution_count": 23,
   "id": "e993143f",
   "metadata": {},
   "outputs": [
    {
     "data": {
      "text/plain": [
       "True"
      ]
     },
     "execution_count": 23,
     "metadata": {},
     "output_type": "execute_result"
    }
   ],
   "source": [
    "a={4,5}\n",
    "b={1,2,3,4,5}\n",
    "a.issubset(b)"
   ]
  },
  {
   "cell_type": "code",
   "execution_count": 24,
   "id": "d52f4112",
   "metadata": {},
   "outputs": [
    {
     "data": {
      "text/plain": [
       "False"
      ]
     },
     "execution_count": 24,
     "metadata": {},
     "output_type": "execute_result"
    }
   ],
   "source": [
    "b.issubset(a)"
   ]
  },
  {
   "cell_type": "markdown",
   "id": "41e36dfe",
   "metadata": {},
   "source": [
    "## Check if a set is a subset, using comparison opertors"
   ]
  },
  {
   "cell_type": "code",
   "execution_count": 25,
   "id": "4b184a70",
   "metadata": {},
   "outputs": [
    {
     "data": {
      "text/plain": [
       "True"
      ]
     },
     "execution_count": 25,
     "metadata": {},
     "output_type": "execute_result"
    }
   ],
   "source": [
    "a={'a','b'}\n",
    "b={'a','b','c'}\n",
    "a<=b"
   ]
  },
  {
   "cell_type": "code",
   "execution_count": 26,
   "id": "464af579",
   "metadata": {},
   "outputs": [
    {
     "data": {
      "text/plain": [
       "False"
      ]
     },
     "execution_count": 26,
     "metadata": {},
     "output_type": "execute_result"
    }
   ],
   "source": [
    "b<=a"
   ]
  },
  {
   "cell_type": "code",
   "execution_count": 28,
   "id": "fb37e474",
   "metadata": {},
   "outputs": [
    {
     "data": {
      "text/plain": [
       "False"
      ]
     },
     "execution_count": 28,
     "metadata": {},
     "output_type": "execute_result"
    }
   ],
   "source": [
    "S1={1,2,3,4,1,2}\n",
    "S2={1,3,5,6,7}\n",
    "S1.issubset(S2)"
   ]
  },
  {
   "cell_type": "code",
   "execution_count": 29,
   "id": "b666eb00",
   "metadata": {},
   "outputs": [
    {
     "data": {
      "text/plain": [
       "True"
      ]
     },
     "execution_count": 29,
     "metadata": {},
     "output_type": "execute_result"
    }
   ],
   "source": [
    "s1={1,2,3,4,1,2}\n",
    "s2={1,3,5,6,7,4,2}\n",
    "s1.issubset(s2)"
   ]
  },
  {
   "cell_type": "code",
   "execution_count": 30,
   "id": "07e4f6d6",
   "metadata": {},
   "outputs": [
    {
     "data": {
      "text/plain": [
       "False"
      ]
     },
     "execution_count": 30,
     "metadata": {},
     "output_type": "execute_result"
    }
   ],
   "source": [
    "s2.issubset(s1)"
   ]
  },
  {
   "cell_type": "markdown",
   "id": "1d080667",
   "metadata": {},
   "source": [
    "## In And not in"
   ]
  },
  {
   "cell_type": "code",
   "execution_count": 31,
   "id": "f1215094",
   "metadata": {},
   "outputs": [
    {
     "data": {
      "text/plain": [
       "True"
      ]
     },
     "execution_count": 31,
     "metadata": {},
     "output_type": "execute_result"
    }
   ],
   "source": [
    "s={5,7,9}\n",
    "5 in s"
   ]
  },
  {
   "cell_type": "code",
   "execution_count": 32,
   "id": "cc6587f8",
   "metadata": {},
   "outputs": [
    {
     "data": {
      "text/plain": [
       "False"
      ]
     },
     "execution_count": 32,
     "metadata": {},
     "output_type": "execute_result"
    }
   ],
   "source": [
    "10 in s"
   ]
  },
  {
   "cell_type": "code",
   "execution_count": 35,
   "id": "ae1b6101",
   "metadata": {},
   "outputs": [
    {
     "data": {
      "text/plain": [
       "True"
      ]
     },
     "execution_count": 35,
     "metadata": {},
     "output_type": "execute_result"
    }
   ],
   "source": [
    "x={'a','b','c'}\n",
    "'d' not in x"
   ]
  },
  {
   "cell_type": "code",
   "execution_count": 36,
   "id": "3230472f",
   "metadata": {},
   "outputs": [
    {
     "data": {
      "text/plain": [
       "False"
      ]
     },
     "execution_count": 36,
     "metadata": {},
     "output_type": "execute_result"
    }
   ],
   "source": [
    "'a' not in x"
   ]
  },
  {
   "cell_type": "code",
   "execution_count": null,
   "id": "b3f20ffd",
   "metadata": {},
   "outputs": [],
   "source": []
  }
 ],
 "metadata": {
  "kernelspec": {
   "display_name": "Python 3 (ipykernel)",
   "language": "python",
   "name": "python3"
  },
  "language_info": {
   "codemirror_mode": {
    "name": "ipython",
    "version": 3
   },
   "file_extension": ".py",
   "mimetype": "text/x-python",
   "name": "python",
   "nbconvert_exporter": "python",
   "pygments_lexer": "ipython3",
   "version": "3.11.3"
  }
 },
 "nbformat": 4,
 "nbformat_minor": 5
}
